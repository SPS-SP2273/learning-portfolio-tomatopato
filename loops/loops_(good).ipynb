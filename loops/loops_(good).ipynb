{
 "cells": [
  {
   "cell_type": "markdown",
   "id": "123456",
   "metadata": {},
   "source": [
    "<div style=\"text-align:left;font-size:2em\"><span style=\"font-weight:bolder;font-size:1.25em\">SP2273 | Learning Portfolio</span><br><br><span style=\"font-weight:bold;color:darkred\">Loops (Good)</span></div>"
   ]
  },
  {
   "cell_type": "markdown",
   "id": "0bd49e9f",
   "metadata": {},
   "source": [
    "## 1 Interrupting the flow"
   ]
  },
  {
   "cell_type": "markdown",
   "id": "e614ec47",
   "metadata": {},
   "source": [
    "## 2 List comprehension!"
   ]
  },
  {
   "cell_type": "markdown",
   "id": "2aea6960",
   "metadata": {},
   "source": [
    "### 2.1 Basic syntax"
   ]
  },
  {
   "cell_type": "code",
   "execution_count": 1,
   "id": "19ee1092",
   "metadata": {},
   "outputs": [
    {
     "name": "stdout",
     "output_type": "stream",
     "text": [
      "0\n",
      "1\n",
      "2\n",
      "3\n",
      "4\n",
      "5\n",
      "6\n"
     ]
    }
   ],
   "source": [
    "for i in range(10):\n",
    "    if i > 6: break\n",
    "    print(i)"
   ]
  },
  {
   "cell_type": "code",
   "execution_count": 2,
   "id": "b5a170f7",
   "metadata": {},
   "outputs": [
    {
     "name": "stdout",
     "output_type": "stream",
     "text": [
      "0\n",
      "1\n",
      "2\n",
      "3\n",
      "4\n",
      "5\n",
      "7\n",
      "8\n",
      "9\n"
     ]
    }
   ],
   "source": [
    "for i in range(10):\n",
    "    if i == 6: continue        # Don't proceed further\n",
    "                               # IN THE CURRENT LOOP\n",
    "                               # if i == 6 (skip 6!)\n",
    "    print(i)"
   ]
  },
  {
   "cell_type": "code",
   "execution_count": 3,
   "id": "de5afbbd",
   "metadata": {},
   "outputs": [
    {
     "name": "stdout",
     "output_type": "stream",
     "text": [
      "1\n",
      "3\n",
      "5\n",
      "7\n",
      "9\n"
     ]
    }
   ],
   "source": [
    "for i in range(10):\n",
    "    if i % 2 == 0: continue     # Don't proceed if the remainder is zero\n",
    "                                # I.e. if the number is even\n",
    "    print(i)"
   ]
  },
  {
   "cell_type": "code",
   "execution_count": 4,
   "id": "07d82da3",
   "metadata": {},
   "outputs": [
    {
     "name": "stdout",
     "output_type": "stream",
     "text": [
      "0\n",
      "1\n",
      "2\n",
      "3\n",
      "4\n"
     ]
    }
   ],
   "source": [
    "number=0\n",
    "\n",
    "while True:\n",
    "    print(number)\n",
    "    number += 1\n",
    "    if number > 4: break"
   ]
  },
  {
   "cell_type": "markdown",
   "id": "f0d2f792",
   "metadata": {},
   "source": [
    "### 2.2 List comprehension with conditions"
   ]
  },
  {
   "cell_type": "code",
   "execution_count": 5,
   "id": "48396882",
   "metadata": {},
   "outputs": [
    {
     "data": {
      "text/plain": [
       "[0, 1, 2, 3, 4, 5, 6, 7, 8, 9]"
      ]
     },
     "execution_count": 5,
     "metadata": {},
     "output_type": "execute_result"
    }
   ],
   "source": [
    "[number for number in range(10)]"
   ]
  },
  {
   "cell_type": "code",
   "execution_count": 6,
   "id": "644d3b21",
   "metadata": {},
   "outputs": [
    {
     "data": {
      "text/plain": [
       "[0, 1, 4, 9, 16, 25, 36, 49, 64, 81]"
      ]
     },
     "execution_count": 6,
     "metadata": {},
     "output_type": "execute_result"
    }
   ],
   "source": [
    "[number**2 for number in range(10)]"
   ]
  },
  {
   "cell_type": "code",
   "execution_count": 7,
   "id": "5bf2d2e9",
   "metadata": {},
   "outputs": [
    {
     "data": {
      "text/plain": [
       "[0, 2, 4, 6, 8]"
      ]
     },
     "execution_count": 7,
     "metadata": {},
     "output_type": "execute_result"
    }
   ],
   "source": [
    "[number for number in range(10) if number % 2 ==0]"
   ]
  },
  {
   "cell_type": "code",
   "execution_count": 10,
   "id": "2707c0ab",
   "metadata": {},
   "outputs": [
    {
     "data": {
      "text/plain": [
       "[1, 3, 5, 7, 9]"
      ]
     },
     "execution_count": 10,
     "metadata": {},
     "output_type": "execute_result"
    }
   ],
   "source": [
    "[number for number in range(10) if number % 2 !=0 ]"
   ]
  },
  {
   "cell_type": "markdown",
   "id": "e83e2b68",
   "metadata": {},
   "source": [
    "## 3 Other useful stuff"
   ]
  },
  {
   "cell_type": "markdown",
   "id": "6a220a78",
   "metadata": {},
   "source": [
    "### 3.1 for with unpacking"
   ]
  },
  {
   "cell_type": "code",
   "execution_count": 13,
   "id": "5d4de003",
   "metadata": {},
   "outputs": [
    {
     "name": "stdout",
     "output_type": "stream",
     "text": [
      "2\n",
      "x = 1, y = 2, z = 3\n"
     ]
    }
   ],
   "source": [
    "x, y, z=[1, 2, 3]\n",
    "print(y)\n",
    "print(f'x = {x}, y = {y}, z = {z}')"
   ]
  },
  {
   "cell_type": "code",
   "execution_count": 14,
   "id": "8e826b55",
   "metadata": {},
   "outputs": [
    {
     "name": "stdout",
     "output_type": "stream",
     "text": [
      "Natasha Romanoff is Marvel's Black Widow!\n",
      "Tony Stark is Marvel's Iron Man!\n",
      "Stephen Strange is Marvel's Doctor Strange!\n"
     ]
    }
   ],
   "source": [
    "py_superhero_info=[['Natasha Romanoff', 'Black Widow'],\n",
    "                     ['Tony Stark', 'Iron Man'],\n",
    "                     ['Stephen Strange', 'Doctor Strange']]\n",
    "\n",
    "for real_name, super_name in py_superhero_info:\n",
    "    print(f\"{real_name} is Marvel's {super_name}!\")"
   ]
  },
  {
   "cell_type": "markdown",
   "id": "341db4dd",
   "metadata": {},
   "source": [
    "### 3.2 for with a zip()"
   ]
  },
  {
   "cell_type": "code",
   "execution_count": 20,
   "id": "9190eed6",
   "metadata": {},
   "outputs": [
    {
     "name": "stdout",
     "output_type": "stream",
     "text": [
      "Natasha Romanoff is Marvel's Black Widow!\n",
      "Tony Stark is Marvel's Iron Man!\n",
      "Stephen Strange is Marvel's Doctor Strange!\n"
     ]
    }
   ],
   "source": [
    "super_names = [\"Black Widow\", \"Iron Man\", \"Doctor Strange\"]\n",
    "real_names = [\"Natasha Romanoff\", \"Tony Stark\", \"Stephen Strange\"]\n",
    "\n",
    "for real_name, super_name in zip(real_names,super_names):\n",
    "    print(f\"{real_name} is Marvel's {super_name}!\")"
   ]
  },
  {
   "cell_type": "markdown",
   "id": "5319d8ed",
   "metadata": {},
   "source": [
    "### 3.3 for with dictionaries"
   ]
  },
  {
   "cell_type": "code",
   "execution_count": 21,
   "id": "3e79268f",
   "metadata": {},
   "outputs": [
    {
     "name": "stdout",
     "output_type": "stream",
     "text": [
      "Natasha Romanoff is Marvel's Black Widow!\n",
      "Tony Stark is Marvel's Iron Man!\n",
      "Stephen Strange is Marvel's Doctor Strange!\n"
     ]
    }
   ],
   "source": [
    "superhero_info={\"Natasha Romanoff\": \"Black Widow\",\n",
    "                \"Tony Stark\": \"Iron Man\",\n",
    "                \"Stephen Strange\": \"Doctor Strange\"}\n",
    "\n",
    "for key, value in superhero_info.items():\n",
    "    print(f\"{key} is Marvel's {value}!\")"
   ]
  },
  {
   "cell_type": "code",
   "execution_count": 23,
   "id": "7cdea42f",
   "metadata": {},
   "outputs": [
    {
     "name": "stdout",
     "output_type": "stream",
     "text": [
      "Natasha Romanoff is Marvel's Black Widow!\n",
      "Tony Stark is Marvel's Iron Man!\n",
      "Stephen Strange is Marvel's Doctor Strange!\n"
     ]
    }
   ],
   "source": [
    "for key in superhero_info.keys():\n",
    "    value=superhero_info[key]\n",
    "    print(f\"{key} is Marvel's {value}!\")"
   ]
  },
  {
   "cell_type": "markdown",
   "id": "cc0e2686",
   "metadata": {},
   "source": [
    "## Exercise 1 :  Make me an odd list"
   ]
  },
  {
   "cell_type": "code",
   "execution_count": 29,
   "id": "cd1dba12",
   "metadata": {},
   "outputs": [
    {
     "name": "stdout",
     "output_type": "stream",
     "text": [
      "[1, 9, 25, 49, 81]\n"
     ]
    }
   ],
   "source": [
    "sq = []\n",
    "\n",
    "for x in range(10):\n",
    "    if x % 2 == 0: continue\n",
    "    sq.append(x**2)\n",
    "    x+= 1\n",
    "print(sq)"
   ]
  },
  {
   "cell_type": "markdown",
   "id": "ff340133",
   "metadata": {},
   "source": [
    "## Exercise 2 :  Make me another odd list"
   ]
  },
  {
   "cell_type": "code",
   "execution_count": 42,
   "id": "f3d42317",
   "metadata": {},
   "outputs": [
    {
     "data": {
      "text/plain": [
       "[1, 9, 25, 49, 81]"
      ]
     },
     "execution_count": 42,
     "metadata": {},
     "output_type": "execute_result"
    }
   ],
   "source": [
    "[x**2 for x in range(10) if x % 2 != 0]"
   ]
  },
  {
   "cell_type": "markdown",
   "id": "2d033365",
   "metadata": {},
   "source": [
    "## Exercise 3 :  Time me!"
   ]
  },
  {
   "cell_type": "code",
   "execution_count": 47,
   "id": "a60dbca0",
   "metadata": {},
   "outputs": [
    {
     "name": "stdout",
     "output_type": "stream",
     "text": [
      "[1, 9, 25, 49, 81]\n"
     ]
    }
   ],
   "source": [
    "sq = []\n",
    "\n",
    "for x in range(10):\n",
    "    if x % 2 == 0: continue\n",
    "    sq.append(x**2)\n",
    "    x+= 1\n",
    "print(sq)"
   ]
  },
  {
   "cell_type": "markdown",
   "id": "fbc08c5d",
   "metadata": {},
   "source": [
    "*15.5 µs ± 580 ns per loop (mean ± std. dev. of 7 runs, 100,000 loops each)* "
   ]
  },
  {
   "cell_type": "code",
   "execution_count": 50,
   "id": "a2d6edca",
   "metadata": {
    "scrolled": true
   },
   "outputs": [
    {
     "data": {
      "text/plain": [
       "[1, 9, 25, 49, 81]"
      ]
     },
     "execution_count": 50,
     "metadata": {},
     "output_type": "execute_result"
    }
   ],
   "source": [
    "[x**2 for x in range(10) if x % 2 != 0]"
   ]
  },
  {
   "cell_type": "markdown",
   "id": "265c0ec2",
   "metadata": {},
   "source": [
    "*4.73 µs ± 128 ns per loop (mean ± std. dev. of 7 runs, 100,000 loops each)*"
   ]
  },
  {
   "cell_type": "markdown",
   "id": "bb357dfa",
   "metadata": {},
   "source": [
    "**The list comprehension method is faster.**"
   ]
  }
 ],
 "metadata": {
  "kernelspec": {
   "display_name": "Python 3 (ipykernel)",
   "language": "python",
   "name": "python3"
  },
  "language_info": {
   "codemirror_mode": {
    "name": "ipython",
    "version": 3
   },
   "file_extension": ".py",
   "mimetype": "text/x-python",
   "name": "python",
   "nbconvert_exporter": "python",
   "pygments_lexer": "ipython3",
   "version": "3.10.8"
  },
  "toc": {
   "base_numbering": 1,
   "nav_menu": {},
   "number_sections": true,
   "sideBar": true,
   "skip_h1_title": false,
   "title_cell": "Table of Contents",
   "title_sidebar": "Contents",
   "toc_cell": false,
   "toc_position": {},
   "toc_section_display": true,
   "toc_window_display": false
  },
  "varInspector": {
   "cols": {
    "lenName": 16,
    "lenType": 16,
    "lenVar": 40
   },
   "kernels_config": {
    "python": {
     "delete_cmd_postfix": "",
     "delete_cmd_prefix": "del ",
     "library": "var_list.py",
     "varRefreshCmd": "print(var_dic_list())"
    },
    "r": {
     "delete_cmd_postfix": ") ",
     "delete_cmd_prefix": "rm(",
     "library": "var_list.r",
     "varRefreshCmd": "cat(var_dic_list()) "
    }
   },
   "types_to_exclude": [
    "module",
    "function",
    "builtin_function_or_method",
    "instance",
    "_Feature"
   ],
   "window_display": false
  },
  "vscode": {
   "interpreter": {
    "hash": "31f2aee4e71d21fbe5cf8b01ff0e069b9275f58929596ceb00d14d90e3e16cd6"
   }
  }
 },
 "nbformat": 4,
 "nbformat_minor": 5
}
