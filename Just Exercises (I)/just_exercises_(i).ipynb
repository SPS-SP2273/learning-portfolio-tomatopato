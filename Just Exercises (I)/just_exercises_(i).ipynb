{
 "cells": [
  {
   "cell_type": "markdown",
   "id": "123456",
   "metadata": {},
   "source": [
    "<div style=\"text-align:left;font-size:2em\"><span style=\"font-weight:bolder;font-size:1.25em\">SP2273 | Learning Portfolio</span><br><br><span style=\"font-weight:bold;color:darkred\">Just Exercises (I)</span></div>"
   ]
  },
  {
   "cell_type": "markdown",
   "id": "c60b2ac2",
   "metadata": {},
   "source": [
    "## Exercise 1 :  F-strings to the rescue"
   ]
  },
  {
   "cell_type": "code",
   "execution_count": 3,
   "id": "73785822",
   "metadata": {},
   "outputs": [
    {
     "name": "stdout",
     "output_type": "stream",
     "text": [
      "00001\n",
      "00002\n",
      "00003\n",
      "00004\n",
      "00005\n",
      "00006\n",
      "00007\n",
      "00008\n",
      "00009\n",
      "00010\n"
     ]
    }
   ],
   "source": [
    "for i in range(1,11):\n",
    "    print(f'{i:05}')"
   ]
  },
  {
   "cell_type": "code",
   "execution_count": 53,
   "id": "816ab3dd",
   "metadata": {},
   "outputs": [
    {
     "name": "stdout",
     "output_type": "stream",
     "text": [
      "001          +\n",
      "002         ++\n",
      "003        +++\n",
      "004       ++++\n",
      "005      +++++\n",
      "006     ++++++\n",
      "007    +++++++\n",
      "008   ++++++++\n",
      "009  +++++++++\n",
      "010 ++++++++++\n"
     ]
    }
   ],
   "source": [
    "for i in range(1,11):\n",
    "    plus = '+'*i\n",
    "    print(f'{i:03} {plus:>10}')"
   ]
  },
  {
   "cell_type": "code",
   "execution_count": 58,
   "id": "616f5c39",
   "metadata": {},
   "outputs": [
    {
     "name": "stdout",
     "output_type": "stream",
     "text": [
      "001 -+++++++++\n",
      "002 --++++++++\n",
      "003 ---+++++++\n",
      "004 ----++++++\n",
      "005 -----+++++\n",
      "006 ------++++\n",
      "007 -------+++\n",
      "008 --------++\n",
      "009 ---------+\n",
      "010 ----------\n"
     ]
    }
   ],
   "source": [
    "for i in range(1,11):\n",
    "    mp = '-'*i + '+'*(10-i)\n",
    "    print(f'{i:03} {mp}')"
   ]
  },
  {
   "cell_type": "code",
   "execution_count": 35,
   "id": "1b3d5e4d",
   "metadata": {},
   "outputs": [
    {
     "name": "stdout",
     "output_type": "stream",
     "text": [
      "['bruce_exploits.txt', 'bruce_enemies.txt', 'bruce_friends.txt', 'natasha_exploits.txt', 'natasha_enemies.txt', 'natasha_friends.txt', 'tony_exploits.txt', 'tony_enemies.txt', 'tony_friends.txt']\n"
     ]
    }
   ],
   "source": [
    "celebs = ['bruce','natasha','tony']\n",
    "people = ['exploits', 'enemies', 'friends']\n",
    "file = []\n",
    "\n",
    "for i in range(len(celebs)):\n",
    "    celeb = celebs[i]\n",
    "    for n in range(len(people)):\n",
    "        person = people[n]\n",
    "        file.append(celeb + '_' + person + '.txt')\n",
    "        \n",
    "print(file)"
   ]
  },
  {
   "cell_type": "code",
   "execution_count": 2,
   "id": "d1e8cd5c",
   "metadata": {},
   "outputs": [],
   "source": [
    "countries = ['data_sg', 'data_gb', 'data_us']\n",
    "file_2 = []\n",
    "file_3 = []\n",
    "\n",
    "for i in range(1,51):\n",
    "    trial_no = f'trial-{i:03}'\n",
    "    file_2.append(trial_no)\n",
    "\n",
    "for i in range(1,4):\n",
    "    exp_no = f'exp-{i:02}'\n",
    "    file_3.append(exp_no)\n"
   ]
  },
  {
   "cell_type": "code",
   "execution_count": 8,
   "id": "394e09d8",
   "metadata": {},
   "outputs": [
    {
     "name": "stdout",
     "output_type": "stream",
     "text": [
      "[\"data_sg_exp-01_trial-001'.txt'\", \"data_sg_exp-01_trial-002'.txt'\", \"data_sg_exp-01_trial-003'.txt'\", \"data_sg_exp-01_trial-004'.txt'\", \"data_sg_exp-01_trial-005'.txt'\", \"data_sg_exp-01_trial-006'.txt'\", \"data_sg_exp-01_trial-007'.txt'\", \"data_sg_exp-01_trial-008'.txt'\", \"data_sg_exp-01_trial-009'.txt'\", \"data_sg_exp-01_trial-010'.txt'\", \"data_sg_exp-01_trial-011'.txt'\", \"data_sg_exp-01_trial-012'.txt'\", \"data_sg_exp-01_trial-013'.txt'\", \"data_sg_exp-01_trial-014'.txt'\", \"data_sg_exp-01_trial-015'.txt'\", \"data_sg_exp-01_trial-016'.txt'\", \"data_sg_exp-01_trial-017'.txt'\", \"data_sg_exp-01_trial-018'.txt'\", \"data_sg_exp-01_trial-019'.txt'\", \"data_sg_exp-01_trial-020'.txt'\", \"data_sg_exp-01_trial-021'.txt'\", \"data_sg_exp-01_trial-022'.txt'\", \"data_sg_exp-01_trial-023'.txt'\", \"data_sg_exp-01_trial-024'.txt'\", \"data_sg_exp-01_trial-025'.txt'\", \"data_sg_exp-01_trial-026'.txt'\", \"data_sg_exp-01_trial-027'.txt'\", \"data_sg_exp-01_trial-028'.txt'\", \"data_sg_exp-01_trial-029'.txt'\", \"data_sg_exp-01_trial-030'.txt'\", \"data_sg_exp-01_trial-031'.txt'\", \"data_sg_exp-01_trial-032'.txt'\", \"data_sg_exp-01_trial-033'.txt'\", \"data_sg_exp-01_trial-034'.txt'\", \"data_sg_exp-01_trial-035'.txt'\", \"data_sg_exp-01_trial-036'.txt'\", \"data_sg_exp-01_trial-037'.txt'\", \"data_sg_exp-01_trial-038'.txt'\", \"data_sg_exp-01_trial-039'.txt'\", \"data_sg_exp-01_trial-040'.txt'\", \"data_sg_exp-01_trial-041'.txt'\", \"data_sg_exp-01_trial-042'.txt'\", \"data_sg_exp-01_trial-043'.txt'\", \"data_sg_exp-01_trial-044'.txt'\", \"data_sg_exp-01_trial-045'.txt'\", \"data_sg_exp-01_trial-046'.txt'\", \"data_sg_exp-01_trial-047'.txt'\", \"data_sg_exp-01_trial-048'.txt'\", \"data_sg_exp-01_trial-049'.txt'\", \"data_sg_exp-01_trial-050'.txt'\", \"data_sg_exp-02_trial-001'.txt'\", \"data_sg_exp-02_trial-002'.txt'\", \"data_sg_exp-02_trial-003'.txt'\", \"data_sg_exp-02_trial-004'.txt'\", \"data_sg_exp-02_trial-005'.txt'\", \"data_sg_exp-02_trial-006'.txt'\", \"data_sg_exp-02_trial-007'.txt'\", \"data_sg_exp-02_trial-008'.txt'\", \"data_sg_exp-02_trial-009'.txt'\", \"data_sg_exp-02_trial-010'.txt'\", \"data_sg_exp-02_trial-011'.txt'\", \"data_sg_exp-02_trial-012'.txt'\", \"data_sg_exp-02_trial-013'.txt'\", \"data_sg_exp-02_trial-014'.txt'\", \"data_sg_exp-02_trial-015'.txt'\", \"data_sg_exp-02_trial-016'.txt'\", \"data_sg_exp-02_trial-017'.txt'\", \"data_sg_exp-02_trial-018'.txt'\", \"data_sg_exp-02_trial-019'.txt'\", \"data_sg_exp-02_trial-020'.txt'\", \"data_sg_exp-02_trial-021'.txt'\", \"data_sg_exp-02_trial-022'.txt'\", \"data_sg_exp-02_trial-023'.txt'\", \"data_sg_exp-02_trial-024'.txt'\", \"data_sg_exp-02_trial-025'.txt'\", \"data_sg_exp-02_trial-026'.txt'\", \"data_sg_exp-02_trial-027'.txt'\", \"data_sg_exp-02_trial-028'.txt'\", \"data_sg_exp-02_trial-029'.txt'\", \"data_sg_exp-02_trial-030'.txt'\", \"data_sg_exp-02_trial-031'.txt'\", \"data_sg_exp-02_trial-032'.txt'\", \"data_sg_exp-02_trial-033'.txt'\", \"data_sg_exp-02_trial-034'.txt'\", \"data_sg_exp-02_trial-035'.txt'\", \"data_sg_exp-02_trial-036'.txt'\", \"data_sg_exp-02_trial-037'.txt'\", \"data_sg_exp-02_trial-038'.txt'\", \"data_sg_exp-02_trial-039'.txt'\", \"data_sg_exp-02_trial-040'.txt'\", \"data_sg_exp-02_trial-041'.txt'\", \"data_sg_exp-02_trial-042'.txt'\", \"data_sg_exp-02_trial-043'.txt'\", \"data_sg_exp-02_trial-044'.txt'\", \"data_sg_exp-02_trial-045'.txt'\", \"data_sg_exp-02_trial-046'.txt'\", \"data_sg_exp-02_trial-047'.txt'\", \"data_sg_exp-02_trial-048'.txt'\", \"data_sg_exp-02_trial-049'.txt'\", \"data_sg_exp-02_trial-050'.txt'\", \"data_sg_exp-03_trial-001'.txt'\", \"data_sg_exp-03_trial-002'.txt'\", \"data_sg_exp-03_trial-003'.txt'\", \"data_sg_exp-03_trial-004'.txt'\", \"data_sg_exp-03_trial-005'.txt'\", \"data_sg_exp-03_trial-006'.txt'\", \"data_sg_exp-03_trial-007'.txt'\", \"data_sg_exp-03_trial-008'.txt'\", \"data_sg_exp-03_trial-009'.txt'\", \"data_sg_exp-03_trial-010'.txt'\", \"data_sg_exp-03_trial-011'.txt'\", \"data_sg_exp-03_trial-012'.txt'\", \"data_sg_exp-03_trial-013'.txt'\", \"data_sg_exp-03_trial-014'.txt'\", \"data_sg_exp-03_trial-015'.txt'\", \"data_sg_exp-03_trial-016'.txt'\", \"data_sg_exp-03_trial-017'.txt'\", \"data_sg_exp-03_trial-018'.txt'\", \"data_sg_exp-03_trial-019'.txt'\", \"data_sg_exp-03_trial-020'.txt'\", \"data_sg_exp-03_trial-021'.txt'\", \"data_sg_exp-03_trial-022'.txt'\", \"data_sg_exp-03_trial-023'.txt'\", \"data_sg_exp-03_trial-024'.txt'\", \"data_sg_exp-03_trial-025'.txt'\", \"data_sg_exp-03_trial-026'.txt'\", \"data_sg_exp-03_trial-027'.txt'\", \"data_sg_exp-03_trial-028'.txt'\", \"data_sg_exp-03_trial-029'.txt'\", \"data_sg_exp-03_trial-030'.txt'\", \"data_sg_exp-03_trial-031'.txt'\", \"data_sg_exp-03_trial-032'.txt'\", \"data_sg_exp-03_trial-033'.txt'\", \"data_sg_exp-03_trial-034'.txt'\", \"data_sg_exp-03_trial-035'.txt'\", \"data_sg_exp-03_trial-036'.txt'\", \"data_sg_exp-03_trial-037'.txt'\", \"data_sg_exp-03_trial-038'.txt'\", \"data_sg_exp-03_trial-039'.txt'\", \"data_sg_exp-03_trial-040'.txt'\", \"data_sg_exp-03_trial-041'.txt'\", \"data_sg_exp-03_trial-042'.txt'\", \"data_sg_exp-03_trial-043'.txt'\", \"data_sg_exp-03_trial-044'.txt'\", \"data_sg_exp-03_trial-045'.txt'\", \"data_sg_exp-03_trial-046'.txt'\", \"data_sg_exp-03_trial-047'.txt'\", \"data_sg_exp-03_trial-048'.txt'\", \"data_sg_exp-03_trial-049'.txt'\", \"data_sg_exp-03_trial-050'.txt'\", \"data_gb_exp-01_trial-001'.txt'\", \"data_gb_exp-01_trial-002'.txt'\", \"data_gb_exp-01_trial-003'.txt'\", \"data_gb_exp-01_trial-004'.txt'\", \"data_gb_exp-01_trial-005'.txt'\", \"data_gb_exp-01_trial-006'.txt'\", \"data_gb_exp-01_trial-007'.txt'\", \"data_gb_exp-01_trial-008'.txt'\", \"data_gb_exp-01_trial-009'.txt'\", \"data_gb_exp-01_trial-010'.txt'\", \"data_gb_exp-01_trial-011'.txt'\", \"data_gb_exp-01_trial-012'.txt'\", \"data_gb_exp-01_trial-013'.txt'\", \"data_gb_exp-01_trial-014'.txt'\", \"data_gb_exp-01_trial-015'.txt'\", \"data_gb_exp-01_trial-016'.txt'\", \"data_gb_exp-01_trial-017'.txt'\", \"data_gb_exp-01_trial-018'.txt'\", \"data_gb_exp-01_trial-019'.txt'\", \"data_gb_exp-01_trial-020'.txt'\", \"data_gb_exp-01_trial-021'.txt'\", \"data_gb_exp-01_trial-022'.txt'\", \"data_gb_exp-01_trial-023'.txt'\", \"data_gb_exp-01_trial-024'.txt'\", \"data_gb_exp-01_trial-025'.txt'\", \"data_gb_exp-01_trial-026'.txt'\", \"data_gb_exp-01_trial-027'.txt'\", \"data_gb_exp-01_trial-028'.txt'\", \"data_gb_exp-01_trial-029'.txt'\", \"data_gb_exp-01_trial-030'.txt'\", \"data_gb_exp-01_trial-031'.txt'\", \"data_gb_exp-01_trial-032'.txt'\", \"data_gb_exp-01_trial-033'.txt'\", \"data_gb_exp-01_trial-034'.txt'\", \"data_gb_exp-01_trial-035'.txt'\", \"data_gb_exp-01_trial-036'.txt'\", \"data_gb_exp-01_trial-037'.txt'\", \"data_gb_exp-01_trial-038'.txt'\", \"data_gb_exp-01_trial-039'.txt'\", \"data_gb_exp-01_trial-040'.txt'\", \"data_gb_exp-01_trial-041'.txt'\", \"data_gb_exp-01_trial-042'.txt'\", \"data_gb_exp-01_trial-043'.txt'\", \"data_gb_exp-01_trial-044'.txt'\", \"data_gb_exp-01_trial-045'.txt'\", \"data_gb_exp-01_trial-046'.txt'\", \"data_gb_exp-01_trial-047'.txt'\", \"data_gb_exp-01_trial-048'.txt'\", \"data_gb_exp-01_trial-049'.txt'\", \"data_gb_exp-01_trial-050'.txt'\", \"data_gb_exp-02_trial-001'.txt'\", \"data_gb_exp-02_trial-002'.txt'\", \"data_gb_exp-02_trial-003'.txt'\", \"data_gb_exp-02_trial-004'.txt'\", \"data_gb_exp-02_trial-005'.txt'\", \"data_gb_exp-02_trial-006'.txt'\", \"data_gb_exp-02_trial-007'.txt'\", \"data_gb_exp-02_trial-008'.txt'\", \"data_gb_exp-02_trial-009'.txt'\", \"data_gb_exp-02_trial-010'.txt'\", \"data_gb_exp-02_trial-011'.txt'\", \"data_gb_exp-02_trial-012'.txt'\", \"data_gb_exp-02_trial-013'.txt'\", \"data_gb_exp-02_trial-014'.txt'\", \"data_gb_exp-02_trial-015'.txt'\", \"data_gb_exp-02_trial-016'.txt'\", \"data_gb_exp-02_trial-017'.txt'\", \"data_gb_exp-02_trial-018'.txt'\", \"data_gb_exp-02_trial-019'.txt'\", \"data_gb_exp-02_trial-020'.txt'\", \"data_gb_exp-02_trial-021'.txt'\", \"data_gb_exp-02_trial-022'.txt'\", \"data_gb_exp-02_trial-023'.txt'\", \"data_gb_exp-02_trial-024'.txt'\", \"data_gb_exp-02_trial-025'.txt'\", \"data_gb_exp-02_trial-026'.txt'\", \"data_gb_exp-02_trial-027'.txt'\", \"data_gb_exp-02_trial-028'.txt'\", \"data_gb_exp-02_trial-029'.txt'\", \"data_gb_exp-02_trial-030'.txt'\", \"data_gb_exp-02_trial-031'.txt'\", \"data_gb_exp-02_trial-032'.txt'\", \"data_gb_exp-02_trial-033'.txt'\", \"data_gb_exp-02_trial-034'.txt'\", \"data_gb_exp-02_trial-035'.txt'\", \"data_gb_exp-02_trial-036'.txt'\", \"data_gb_exp-02_trial-037'.txt'\", \"data_gb_exp-02_trial-038'.txt'\", \"data_gb_exp-02_trial-039'.txt'\", \"data_gb_exp-02_trial-040'.txt'\", \"data_gb_exp-02_trial-041'.txt'\", \"data_gb_exp-02_trial-042'.txt'\", \"data_gb_exp-02_trial-043'.txt'\", \"data_gb_exp-02_trial-044'.txt'\", \"data_gb_exp-02_trial-045'.txt'\", \"data_gb_exp-02_trial-046'.txt'\", \"data_gb_exp-02_trial-047'.txt'\", \"data_gb_exp-02_trial-048'.txt'\", \"data_gb_exp-02_trial-049'.txt'\", \"data_gb_exp-02_trial-050'.txt'\", \"data_gb_exp-03_trial-001'.txt'\", \"data_gb_exp-03_trial-002'.txt'\", \"data_gb_exp-03_trial-003'.txt'\", \"data_gb_exp-03_trial-004'.txt'\", \"data_gb_exp-03_trial-005'.txt'\", \"data_gb_exp-03_trial-006'.txt'\", \"data_gb_exp-03_trial-007'.txt'\", \"data_gb_exp-03_trial-008'.txt'\", \"data_gb_exp-03_trial-009'.txt'\", \"data_gb_exp-03_trial-010'.txt'\", \"data_gb_exp-03_trial-011'.txt'\", \"data_gb_exp-03_trial-012'.txt'\", \"data_gb_exp-03_trial-013'.txt'\", \"data_gb_exp-03_trial-014'.txt'\", \"data_gb_exp-03_trial-015'.txt'\", \"data_gb_exp-03_trial-016'.txt'\", \"data_gb_exp-03_trial-017'.txt'\", \"data_gb_exp-03_trial-018'.txt'\", \"data_gb_exp-03_trial-019'.txt'\", \"data_gb_exp-03_trial-020'.txt'\", \"data_gb_exp-03_trial-021'.txt'\", \"data_gb_exp-03_trial-022'.txt'\", \"data_gb_exp-03_trial-023'.txt'\", \"data_gb_exp-03_trial-024'.txt'\", \"data_gb_exp-03_trial-025'.txt'\", \"data_gb_exp-03_trial-026'.txt'\", \"data_gb_exp-03_trial-027'.txt'\", \"data_gb_exp-03_trial-028'.txt'\", \"data_gb_exp-03_trial-029'.txt'\", \"data_gb_exp-03_trial-030'.txt'\", \"data_gb_exp-03_trial-031'.txt'\", \"data_gb_exp-03_trial-032'.txt'\", \"data_gb_exp-03_trial-033'.txt'\", \"data_gb_exp-03_trial-034'.txt'\", \"data_gb_exp-03_trial-035'.txt'\", \"data_gb_exp-03_trial-036'.txt'\", \"data_gb_exp-03_trial-037'.txt'\", \"data_gb_exp-03_trial-038'.txt'\", \"data_gb_exp-03_trial-039'.txt'\", \"data_gb_exp-03_trial-040'.txt'\", \"data_gb_exp-03_trial-041'.txt'\", \"data_gb_exp-03_trial-042'.txt'\", \"data_gb_exp-03_trial-043'.txt'\", \"data_gb_exp-03_trial-044'.txt'\", \"data_gb_exp-03_trial-045'.txt'\", \"data_gb_exp-03_trial-046'.txt'\", \"data_gb_exp-03_trial-047'.txt'\", \"data_gb_exp-03_trial-048'.txt'\", \"data_gb_exp-03_trial-049'.txt'\", \"data_gb_exp-03_trial-050'.txt'\", \"data_us_exp-01_trial-001'.txt'\", \"data_us_exp-01_trial-002'.txt'\", \"data_us_exp-01_trial-003'.txt'\", \"data_us_exp-01_trial-004'.txt'\", \"data_us_exp-01_trial-005'.txt'\", \"data_us_exp-01_trial-006'.txt'\", \"data_us_exp-01_trial-007'.txt'\", \"data_us_exp-01_trial-008'.txt'\", \"data_us_exp-01_trial-009'.txt'\", \"data_us_exp-01_trial-010'.txt'\", \"data_us_exp-01_trial-011'.txt'\", \"data_us_exp-01_trial-012'.txt'\", \"data_us_exp-01_trial-013'.txt'\", \"data_us_exp-01_trial-014'.txt'\", \"data_us_exp-01_trial-015'.txt'\", \"data_us_exp-01_trial-016'.txt'\", \"data_us_exp-01_trial-017'.txt'\", \"data_us_exp-01_trial-018'.txt'\", \"data_us_exp-01_trial-019'.txt'\", \"data_us_exp-01_trial-020'.txt'\", \"data_us_exp-01_trial-021'.txt'\", \"data_us_exp-01_trial-022'.txt'\", \"data_us_exp-01_trial-023'.txt'\", \"data_us_exp-01_trial-024'.txt'\", \"data_us_exp-01_trial-025'.txt'\", \"data_us_exp-01_trial-026'.txt'\", \"data_us_exp-01_trial-027'.txt'\", \"data_us_exp-01_trial-028'.txt'\", \"data_us_exp-01_trial-029'.txt'\", \"data_us_exp-01_trial-030'.txt'\", \"data_us_exp-01_trial-031'.txt'\", \"data_us_exp-01_trial-032'.txt'\", \"data_us_exp-01_trial-033'.txt'\", \"data_us_exp-01_trial-034'.txt'\", \"data_us_exp-01_trial-035'.txt'\", \"data_us_exp-01_trial-036'.txt'\", \"data_us_exp-01_trial-037'.txt'\", \"data_us_exp-01_trial-038'.txt'\", \"data_us_exp-01_trial-039'.txt'\", \"data_us_exp-01_trial-040'.txt'\", \"data_us_exp-01_trial-041'.txt'\", \"data_us_exp-01_trial-042'.txt'\", \"data_us_exp-01_trial-043'.txt'\", \"data_us_exp-01_trial-044'.txt'\", \"data_us_exp-01_trial-045'.txt'\", \"data_us_exp-01_trial-046'.txt'\", \"data_us_exp-01_trial-047'.txt'\", \"data_us_exp-01_trial-048'.txt'\", \"data_us_exp-01_trial-049'.txt'\", \"data_us_exp-01_trial-050'.txt'\", \"data_us_exp-02_trial-001'.txt'\", \"data_us_exp-02_trial-002'.txt'\", \"data_us_exp-02_trial-003'.txt'\", \"data_us_exp-02_trial-004'.txt'\", \"data_us_exp-02_trial-005'.txt'\", \"data_us_exp-02_trial-006'.txt'\", \"data_us_exp-02_trial-007'.txt'\", \"data_us_exp-02_trial-008'.txt'\", \"data_us_exp-02_trial-009'.txt'\", \"data_us_exp-02_trial-010'.txt'\", \"data_us_exp-02_trial-011'.txt'\", \"data_us_exp-02_trial-012'.txt'\", \"data_us_exp-02_trial-013'.txt'\", \"data_us_exp-02_trial-014'.txt'\", \"data_us_exp-02_trial-015'.txt'\", \"data_us_exp-02_trial-016'.txt'\", \"data_us_exp-02_trial-017'.txt'\", \"data_us_exp-02_trial-018'.txt'\", \"data_us_exp-02_trial-019'.txt'\", \"data_us_exp-02_trial-020'.txt'\", \"data_us_exp-02_trial-021'.txt'\", \"data_us_exp-02_trial-022'.txt'\", \"data_us_exp-02_trial-023'.txt'\", \"data_us_exp-02_trial-024'.txt'\", \"data_us_exp-02_trial-025'.txt'\", \"data_us_exp-02_trial-026'.txt'\", \"data_us_exp-02_trial-027'.txt'\", \"data_us_exp-02_trial-028'.txt'\", \"data_us_exp-02_trial-029'.txt'\", \"data_us_exp-02_trial-030'.txt'\", \"data_us_exp-02_trial-031'.txt'\", \"data_us_exp-02_trial-032'.txt'\", \"data_us_exp-02_trial-033'.txt'\", \"data_us_exp-02_trial-034'.txt'\", \"data_us_exp-02_trial-035'.txt'\", \"data_us_exp-02_trial-036'.txt'\", \"data_us_exp-02_trial-037'.txt'\", \"data_us_exp-02_trial-038'.txt'\", \"data_us_exp-02_trial-039'.txt'\", \"data_us_exp-02_trial-040'.txt'\", \"data_us_exp-02_trial-041'.txt'\", \"data_us_exp-02_trial-042'.txt'\", \"data_us_exp-02_trial-043'.txt'\", \"data_us_exp-02_trial-044'.txt'\", \"data_us_exp-02_trial-045'.txt'\", \"data_us_exp-02_trial-046'.txt'\", \"data_us_exp-02_trial-047'.txt'\", \"data_us_exp-02_trial-048'.txt'\", \"data_us_exp-02_trial-049'.txt'\", \"data_us_exp-02_trial-050'.txt'\", \"data_us_exp-03_trial-001'.txt'\", \"data_us_exp-03_trial-002'.txt'\", \"data_us_exp-03_trial-003'.txt'\", \"data_us_exp-03_trial-004'.txt'\", \"data_us_exp-03_trial-005'.txt'\", \"data_us_exp-03_trial-006'.txt'\", \"data_us_exp-03_trial-007'.txt'\", \"data_us_exp-03_trial-008'.txt'\", \"data_us_exp-03_trial-009'.txt'\", \"data_us_exp-03_trial-010'.txt'\", \"data_us_exp-03_trial-011'.txt'\", \"data_us_exp-03_trial-012'.txt'\", \"data_us_exp-03_trial-013'.txt'\", \"data_us_exp-03_trial-014'.txt'\", \"data_us_exp-03_trial-015'.txt'\", \"data_us_exp-03_trial-016'.txt'\", \"data_us_exp-03_trial-017'.txt'\", \"data_us_exp-03_trial-018'.txt'\", \"data_us_exp-03_trial-019'.txt'\", \"data_us_exp-03_trial-020'.txt'\", \"data_us_exp-03_trial-021'.txt'\", \"data_us_exp-03_trial-022'.txt'\", \"data_us_exp-03_trial-023'.txt'\", \"data_us_exp-03_trial-024'.txt'\", \"data_us_exp-03_trial-025'.txt'\", \"data_us_exp-03_trial-026'.txt'\", \"data_us_exp-03_trial-027'.txt'\", \"data_us_exp-03_trial-028'.txt'\", \"data_us_exp-03_trial-029'.txt'\", \"data_us_exp-03_trial-030'.txt'\", \"data_us_exp-03_trial-031'.txt'\", \"data_us_exp-03_trial-032'.txt'\", \"data_us_exp-03_trial-033'.txt'\", \"data_us_exp-03_trial-034'.txt'\", \"data_us_exp-03_trial-035'.txt'\", \"data_us_exp-03_trial-036'.txt'\", \"data_us_exp-03_trial-037'.txt'\", \"data_us_exp-03_trial-038'.txt'\", \"data_us_exp-03_trial-039'.txt'\", \"data_us_exp-03_trial-040'.txt'\", \"data_us_exp-03_trial-041'.txt'\", \"data_us_exp-03_trial-042'.txt'\", \"data_us_exp-03_trial-043'.txt'\", \"data_us_exp-03_trial-044'.txt'\", \"data_us_exp-03_trial-045'.txt'\", \"data_us_exp-03_trial-046'.txt'\", \"data_us_exp-03_trial-047'.txt'\", \"data_us_exp-03_trial-048'.txt'\", \"data_us_exp-03_trial-049'.txt'\", \"data_us_exp-03_trial-050'.txt'\"]\n"
     ]
    }
   ],
   "source": [
    "final_file = []\n",
    "for i in range(len(countries)):\n",
    "    country = countries[i]\n",
    "    for i in range(1,4):\n",
    "            exp_no = f'exp-{i:02}'\n",
    "            for i in range(1,51):\n",
    "                trial_no = f'trial-{i:03}'\n",
    "                final_file.append(f\"{country}_{exp_no}_{trial_no}'.txt'\")\n",
    "            \n",
    "print(final_file)"
   ]
  },
  {
   "cell_type": "markdown",
   "id": "6a9edb81",
   "metadata": {},
   "source": [
    "## Exercise 2 :  Tutti frutti"
   ]
  },
  {
   "cell_type": "code",
   "execution_count": 75,
   "id": "b7dfcdf3",
   "metadata": {
    "scrolled": true
   },
   "outputs": [
    {
     "data": {
      "text/plain": [
       "True"
      ]
     },
     "execution_count": 75,
     "metadata": {},
     "output_type": "execute_result"
    }
   ],
   "source": [
    "fruits = [\"apple\", \"banana\", \"pineapple\", \"jackfruit\",\n",
    "        \"peach\", \"durian\", \"watermelon\", \"mango\",\n",
    "        \"strawberry\", \"passionfruit\"]\n",
    "#mango is included in the list\n",
    "'mango' in fruits"
   ]
  },
  {
   "cell_type": "code",
   "execution_count": 31,
   "id": "74ac6f17",
   "metadata": {},
   "outputs": [
    {
     "name": "stdout",
     "output_type": "stream",
     "text": [
      "ae\n",
      "ba\n",
      "pe\n",
      "jt\n",
      "ph\n",
      "dn\n",
      "wn\n",
      "mo\n",
      "sy\n",
      "pt\n"
     ]
    }
   ],
   "source": [
    "for i in fruits:\n",
    "    print(i[0]+i[-1])"
   ]
  },
  {
   "cell_type": "code",
   "execution_count": 42,
   "id": "1ffcc6e6",
   "metadata": {
    "scrolled": true
   },
   "outputs": [
    {
     "name": "stdout",
     "output_type": "stream",
     "text": [
      "apple\n",
      "banana\n",
      "PINEAPPLE\n",
      "jackfruit\n",
      "PEACH\n",
      "durian\n",
      "watermelon\n",
      "mango\n",
      "strawberry\n",
      "PASSIONFRUIT\n"
     ]
    }
   ],
   "source": [
    "for i in fruits:\n",
    "    if i[0] == 'p':\n",
    "        print(i.upper())\n",
    "    else:\n",
    "        print(i)"
   ]
  },
  {
   "cell_type": "code",
   "execution_count": 48,
   "id": "d180e440",
   "metadata": {},
   "outputs": [
    {
     "name": "stdout",
     "output_type": "stream",
     "text": [
      "['apple', 'banana', 'pineapple', 'jackfruit', 'peach', 'durian', 'watermelon', 'mango', 'strawberry', 'passionfruit', 'dragon fruit', 'apricots', 'oranges']\n"
     ]
    }
   ],
   "source": [
    "#append list\n",
    "more_fruits = [\"dragon fruit\", \"apricots\", \"oranges\"]\n",
    "all_fruits = fruits + more_fruits\n",
    "print(all_fruits)"
   ]
  },
  {
   "cell_type": "code",
   "execution_count": 62,
   "id": "5dade2ce",
   "metadata": {},
   "outputs": [
    {
     "data": {
      "text/plain": [
       "['dragon fruit',\n",
       " 'apricots',\n",
       " 'oranges',\n",
       " 'apple',\n",
       " 'banana',\n",
       " 'pineapple',\n",
       " 'jackfruit',\n",
       " 'peach',\n",
       " 'durian',\n",
       " 'watermelon',\n",
       " 'mango',\n",
       " 'strawberry',\n",
       " 'passionfruit']"
      ]
     },
     "execution_count": 62,
     "metadata": {},
     "output_type": "execute_result"
    }
   ],
   "source": [
    "#prepend method 1\n",
    "fruits = [\"apple\", \"banana\", \"pineapple\", \"jackfruit\",\n",
    "        \"peach\", \"durian\", \"watermelon\", \"mango\",\n",
    "        \"strawberry\", \"passionfruit\"]\n",
    "\n",
    "more_fruits = [\"dragon fruit\", \"apricots\", \"oranges\"]\n",
    "\n",
    "fruits = more_fruits + fruits\n",
    "\n",
    "fruits"
   ]
  },
  {
   "cell_type": "code",
   "execution_count": 61,
   "id": "eff1008a",
   "metadata": {},
   "outputs": [
    {
     "name": "stdout",
     "output_type": "stream",
     "text": [
      "['dragon fruit', 'apricots', 'oranges', 'apple', 'banana', 'pineapple', 'jackfruit', 'peach', 'durian', 'watermelon', 'mango', 'strawberry', 'passionfruit']\n"
     ]
    }
   ],
   "source": [
    "#prepend method 2\n",
    "fruits = [\"apple\", \"banana\", \"pineapple\", \"jackfruit\",\n",
    "        \"peach\", \"durian\", \"watermelon\", \"mango\",\n",
    "        \"strawberry\", \"passionfruit\"]\n",
    "\n",
    "more_fruits = [\"dragon fruit\", \"apricots\", \"oranges\"]\n",
    "\n",
    "j = 0\n",
    "for i in more_fruits:\n",
    "    fruits.insert(j, i)\n",
    "    j += 1\n",
    "print(fruits)"
   ]
  },
  {
   "cell_type": "code",
   "execution_count": 2,
   "id": "6d8cf234",
   "metadata": {},
   "outputs": [
    {
     "ename": "TypeError",
     "evalue": "'list' object is not callable",
     "output_type": "error",
     "traceback": [
      "\u001b[1;31m---------------------------------------------------------------------------\u001b[0m",
      "\u001b[1;31mTypeError\u001b[0m                                 Traceback (most recent call last)",
      "Cell \u001b[1;32mIn[2], line 14\u001b[0m\n\u001b[0;32m     11\u001b[0m     fruits\u001b[38;5;241m.\u001b[39minsert(midpoint, i)\n\u001b[0;32m     12\u001b[0m     midpoint \u001b[38;5;241m+\u001b[39m\u001b[38;5;241m=\u001b[39m \u001b[38;5;241m1\u001b[39m\n\u001b[1;32m---> 14\u001b[0m \u001b[43mfruits\u001b[49m\u001b[43m(\u001b[49m\u001b[38;5;241;43m0\u001b[39;49m\u001b[43m,\u001b[49m\u001b[38;5;241;43m9\u001b[39;49m\u001b[43m)\u001b[49m\n",
      "\u001b[1;31mTypeError\u001b[0m: 'list' object is not callable"
     ]
    }
   ],
   "source": [
    "#insert in the middle\n",
    "fruits = [\"apple\", \"banana\", \"pineapple\", \"jackfruit\",\n",
    "        \"peach\", \"durian\", \"watermelon\", \"mango\",\n",
    "        \"strawberry\", \"passionfruit\"]\n",
    "\n",
    "more_fruits = [\"dragon fruit\", \"apricots\", \"oranges\"]\n",
    "\n",
    "midpoint = len(fruits)//2\n",
    "\n",
    "for i in more_fruits:\n",
    "    fruits.insert(midpoint, i)\n",
    "    midpoint += 1"
   ]
  },
  {
   "cell_type": "code",
   "execution_count": 89,
   "id": "03c73a1a",
   "metadata": {
    "scrolled": true
   },
   "outputs": [
    {
     "data": {
      "text/plain": [
       "['pineapple',\n",
       " 'jackfruit',\n",
       " 'dragon fruit',\n",
       " 'apricots',\n",
       " 'watermelon',\n",
       " 'strawberry',\n",
       " 'passionfruit']"
      ]
     },
     "execution_count": 89,
     "metadata": {},
     "output_type": "execute_result"
    }
   ],
   "source": [
    "#make a list with fruits whose names are longer than eight characters using list comprehension\n",
    "\n",
    "[fruit for fruit in fruits if len(fruit)>8]"
   ]
  },
  {
   "cell_type": "markdown",
   "id": "82d86fc5",
   "metadata": {},
   "source": [
    "## Exercise 3 :  Ciao Fibonacci"
   ]
  },
  {
   "cell_type": "code",
   "execution_count": 4,
   "id": "faa3b6d6",
   "metadata": {},
   "outputs": [
    {
     "name": "stdout",
     "output_type": "stream",
     "text": [
      "[0, 1, 1, 2, 3, 5, 8, 13, 21, 34, 55, 89, 144, 233]\n"
     ]
    }
   ],
   "source": [
    "fibonnaci=[0, 1]\n",
    "\n",
    "for i in fibonnaci:\n",
    "    fibonnaci.append(i+fibonnaci[-1])\n",
    "    if len(fibonnaci)>13:\n",
    "        break\n",
    "print(fibonnaci)"
   ]
  },
  {
   "cell_type": "markdown",
   "id": "0760cf93",
   "metadata": {},
   "source": [
    "## Exercise 4 :  A function for Fibonacci"
   ]
  },
  {
   "cell_type": "code",
   "execution_count": null,
   "id": "b359e6cd",
   "metadata": {},
   "outputs": [],
   "source": [
    "for i in range(5):\n",
    "    print('a')"
   ]
  },
  {
   "cell_type": "code",
   "execution_count": 8,
   "id": "e3188f06",
   "metadata": {},
   "outputs": [
    {
     "data": {
      "text/plain": [
       "[0, 1, 1, 2, 3, 5, 8, 13]"
      ]
     },
     "execution_count": 8,
     "metadata": {},
     "output_type": "execute_result"
    }
   ],
   "source": [
    "def fibonacci(n):\n",
    "    try:\n",
    "        f_numbers=[0, 1]\n",
    "        for i in range(n):\n",
    "            f_numbers.append(f_numbers[-2]+f_numbers[-1])\n",
    "        return f_numbers[:n]\n",
    "    except:\n",
    "        print('n has to be an integer')\n",
    "        \n",
    "fibonacci(8)"
   ]
  },
  {
   "cell_type": "markdown",
   "id": "862026be",
   "metadata": {},
   "source": [
    "## Exercise 5 :  max_info() without NumPy"
   ]
  },
  {
   "cell_type": "code",
   "execution_count": null,
   "id": "2cfc1498",
   "metadata": {},
   "outputs": [],
   "source": [
    "\n",
    "\n",
    "\n",
    "# Your solution here\n",
    "\n",
    "\n"
   ]
  },
  {
   "cell_type": "markdown",
   "id": "4627dc9b",
   "metadata": {},
   "source": [
    "## Exercise 6 :  Take count"
   ]
  },
  {
   "cell_type": "code",
   "execution_count": null,
   "id": "7965c7cb",
   "metadata": {},
   "outputs": [],
   "source": [
    "\n",
    "\n",
    "\n",
    "# Your solution here\n",
    "\n",
    "\n"
   ]
  }
 ],
 "metadata": {
  "kernelspec": {
   "display_name": "Python 3 (ipykernel)",
   "language": "python",
   "name": "python3"
  },
  "language_info": {
   "codemirror_mode": {
    "name": "ipython",
    "version": 3
   },
   "file_extension": ".py",
   "mimetype": "text/x-python",
   "name": "python",
   "nbconvert_exporter": "python",
   "pygments_lexer": "ipython3",
   "version": "3.10.8"
  },
  "toc": {
   "base_numbering": 1,
   "nav_menu": {},
   "number_sections": true,
   "sideBar": true,
   "skip_h1_title": false,
   "title_cell": "Table of Contents",
   "title_sidebar": "Contents",
   "toc_cell": false,
   "toc_position": {},
   "toc_section_display": true,
   "toc_window_display": false
  },
  "varInspector": {
   "cols": {
    "lenName": 16,
    "lenType": 16,
    "lenVar": 40
   },
   "kernels_config": {
    "python": {
     "delete_cmd_postfix": "",
     "delete_cmd_prefix": "del ",
     "library": "var_list.py",
     "varRefreshCmd": "print(var_dic_list())"
    },
    "r": {
     "delete_cmd_postfix": ") ",
     "delete_cmd_prefix": "rm(",
     "library": "var_list.r",
     "varRefreshCmd": "cat(var_dic_list()) "
    }
   },
   "types_to_exclude": [
    "module",
    "function",
    "builtin_function_or_method",
    "instance",
    "_Feature"
   ],
   "window_display": false
  },
  "vscode": {
   "interpreter": {
    "hash": "31f2aee4e71d21fbe5cf8b01ff0e069b9275f58929596ceb00d14d90e3e16cd6"
   }
  }
 },
 "nbformat": 4,
 "nbformat_minor": 5
}
