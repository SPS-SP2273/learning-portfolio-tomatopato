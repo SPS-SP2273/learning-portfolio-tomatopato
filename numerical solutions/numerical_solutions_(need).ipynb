{
 "cells": [
  {
   "cell_type": "markdown",
   "id": "123456",
   "metadata": {},
   "source": [
    "<div style=\"text-align:left;font-size:2em\"><span style=\"font-weight:bolder;font-size:1.25em\">SP2273 | Learning Portfolio</span><br><br><span style=\"font-weight:bold;color:darkred\">Numerical Solutions (Need)</span></div>"
   ]
  },
  {
   "cell_type": "markdown",
   "id": "d4978180",
   "metadata": {},
   "source": [
    "## 1 A Bucket of water"
   ]
  },
  {
   "cell_type": "markdown",
   "id": "e8225522",
   "metadata": {},
   "source": [
    "### 1.1 Getting a feel"
   ]
  },
  {
   "cell_type": "code",
   "execution_count": 3,
   "id": "ef280427",
   "metadata": {},
   "outputs": [],
   "source": [
    "from matplotlib import pyplot as plt"
   ]
  },
  {
   "cell_type": "code",
   "execution_count": 4,
   "id": "a76dd989",
   "metadata": {},
   "outputs": [
    {
     "data": {
      "text/plain": [
       "Text(0.5, 0, 'Time(mins)')"
      ]
     },
     "execution_count": 4,
     "metadata": {},
     "output_type": "execute_result"
    },
    {
     "data": {
      "image/png": "[encoded data removed]",
      "text/plain": [
       "<Figure size 640x480 with 1 Axes>"
      ]
     },
     "metadata": {},
     "output_type": "display_data"
    }
   ],
   "source": [
    "max_time = 5                     # Maximum time (mins)\n",
    "dt = .5                          # Time step (mins)\n",
    "rate = 5                         # Rate (L/min)\n",
    "all_volume = []                  # To keep track of all volumes\n",
    "volume = 0                       # Starting volume\n",
    "\n",
    "all_time = np.arange(start=0, stop=max_time, step=dt)\n",
    "\n",
    "for time in all_time:\n",
    "    all_volume.append(volume)    # Record volume\n",
    "    dV = rate * dt               # Calculate change in volume\n",
    "    volume += dV                 # Update the new volume\n",
    "\n",
    "# Because we can...\n",
    "plt.plot(all_time, all_volume)\n",
    "plt.ylabel('Volume(L)')\n",
    "plt.xlabel('Time(mins)')"
   ]
  },
  {
   "cell_type": "markdown",
   "id": "0e1a3223",
   "metadata": {},
   "source": [
    "### 1.2 An overflowing bucket"
   ]
  },
  {
   "cell_type": "code",
   "execution_count": null,
   "id": "1dfd8d8e",
   "metadata": {},
   "outputs": [],
   "source": [
    "\n",
    "# Your code here\n"
   ]
  },
  {
   "cell_type": "markdown",
   "id": "86be5fc0",
   "metadata": {},
   "source": [
    "### 1.3 A leaky bucket"
   ]
  },
  {
   "cell_type": "code",
   "execution_count": null,
   "id": "9410eaca",
   "metadata": {},
   "outputs": [],
   "source": [
    "\n",
    "# Your code here\n"
   ]
  },
  {
   "cell_type": "markdown",
   "id": "bde637a4",
   "metadata": {},
   "source": [
    "### 1.4 Let’s turn off the tap"
   ]
  },
  {
   "cell_type": "code",
   "execution_count": null,
   "id": "75c15c1a",
   "metadata": {},
   "outputs": [],
   "source": [
    "\n",
    "# Your code here\n"
   ]
  },
  {
   "cell_type": "markdown",
   "id": "5bde53fa",
   "metadata": {},
   "source": [
    "### Using while"
   ]
  },
  {
   "cell_type": "code",
   "execution_count": null,
   "id": "ce825374",
   "metadata": {},
   "outputs": [],
   "source": [
    "\n",
    "# Your code here\n"
   ]
  },
  {
   "cell_type": "markdown",
   "id": "31f25d10",
   "metadata": {},
   "source": [
    "### 1.5 A quick summary"
   ]
  },
  {
   "cell_type": "code",
   "execution_count": null,
   "id": "e9bea005",
   "metadata": {},
   "outputs": [],
   "source": [
    "\n",
    "# Your code here\n"
   ]
  },
  {
   "cell_type": "markdown",
   "id": "1f36f52c",
   "metadata": {},
   "source": [
    "### 1.6 We just solved a differential equation!"
   ]
  },
  {
   "cell_type": "code",
   "execution_count": null,
   "id": "5f93ed0b",
   "metadata": {},
   "outputs": [],
   "source": [
    "\n",
    "# Your code here\n"
   ]
  },
  {
   "cell_type": "markdown",
   "id": "bd55e64a",
   "metadata": {},
   "source": [
    "## 2 Simulating Radioactivity"
   ]
  },
  {
   "cell_type": "markdown",
   "id": "101c0d3b",
   "metadata": {},
   "source": [
    "### 2.1 Introduction"
   ]
  },
  {
   "cell_type": "code",
   "execution_count": null,
   "id": "d0ea3c91",
   "metadata": {},
   "outputs": [],
   "source": [
    "\n",
    "# Your code here\n"
   ]
  },
  {
   "cell_type": "markdown",
   "id": "a2be1e62",
   "metadata": {},
   "source": [
    "### 2.2 Approximating the differential equation"
   ]
  },
  {
   "cell_type": "code",
   "execution_count": null,
   "id": "f41609a3",
   "metadata": {},
   "outputs": [],
   "source": [
    "\n",
    "# Your code here\n"
   ]
  },
  {
   "cell_type": "markdown",
   "id": "3e6c003a",
   "metadata": {},
   "source": [
    "### 2.3 Getting a feel"
   ]
  },
  {
   "cell_type": "code",
   "execution_count": null,
   "id": "828b1963",
   "metadata": {},
   "outputs": [],
   "source": [
    "\n",
    "# Your code here\n"
   ]
  },
  {
   "cell_type": "markdown",
   "id": "63b947c6",
   "metadata": {},
   "source": [
    "### 2.4 Let’s write some code"
   ]
  },
  {
   "cell_type": "code",
   "execution_count": null,
   "id": "b3117727",
   "metadata": {},
   "outputs": [],
   "source": [
    "\n",
    "# Your code here\n"
   ]
  },
  {
   "cell_type": "markdown",
   "id": "915a3ea5",
   "metadata": {},
   "source": [
    "### 2.5 Some things to note about the code"
   ]
  },
  {
   "cell_type": "code",
   "execution_count": null,
   "id": "ae4d2669",
   "metadata": {},
   "outputs": [],
   "source": [
    "\n",
    "# Your code here\n"
   ]
  },
  {
   "cell_type": "markdown",
   "id": "45d8d87f",
   "metadata": {},
   "source": [
    "### 2.6 A quick summary"
   ]
  },
  {
   "cell_type": "code",
   "execution_count": null,
   "id": "aae9c5cc",
   "metadata": {},
   "outputs": [],
   "source": [
    "\n",
    "# Your code here\n"
   ]
  },
  {
   "cell_type": "markdown",
   "id": "5f73afec",
   "metadata": {},
   "source": [
    "## Exercise 1 :  A more realistic leak"
   ]
  },
  {
   "cell_type": "markdown",
   "id": "eae1f68d",
   "metadata": {},
   "source": [
    "rate of the leak = area of the leak × speed of water\n",
    "\n",
    "The speed at which water comes out of a hole at the bottom is given by √2gh where h is the height of the water and g=9.8m/s2.\n",
    "\n",
    "Assume that the base of the bucket is 700 cm2 in area, and the hole is 1 cm2"
   ]
  },
  {
   "cell_type": "code",
   "execution_count": 17,
   "id": "5bdd6491",
   "metadata": {},
   "outputs": [],
   "source": [
    "def leak_rate(volume):\n",
    "    volume = volume*0.001          #convert volume to m^3\n",
    "    h = volume/(700*0.0001)        #height is in metres\n",
    "    water_speed = np.sqrt(2*9.8*h)\n",
    "    leak_rate = 0.0001*water_speed         #leak_rate is in m^3 per second\n",
    "    leak_rate = leak_rate*60000\n",
    "    return leak_rate "
   ]
  },
  {
   "cell_type": "code",
   "execution_count": 24,
   "id": "48ac6d21",
   "metadata": {},
   "outputs": [
    {
     "data": {
      "text/plain": [
       "Text(0.5, 0, 'Time(mins)')"
      ]
     },
     "execution_count": 24,
     "metadata": {},
     "output_type": "execute_result"
    },
    {
     "data": {
      "image/png": "[encoded data removed]",
      "text/plain": [
       "<Figure size 640x480 with 1 Axes>"
      ]
     },
     "metadata": {},
     "output_type": "display_data"
    }
   ],
   "source": [
    "max_time = 4.0                   # Maximum time (mins)\n",
    "dt = .0001                       # Time step (mins)\n",
    "rate = 5                         # Filling rate (L/min)\n",
    "bucket_capacity = 9              # L\n",
    "all_volume = []                  # To keep track of all volumes\n",
    "volume = 0                       # Starting volume\n",
    "\n",
    "all_time = np.arange(start=0, stop=max_time, step=dt)\n",
    "\n",
    "for time in all_time:\n",
    "    all_volume.append(volume)\n",
    "\n",
    "    dV = rate * dt\n",
    "    leak_volume = leak_rate(volume) * dt\n",
    "    volume -= leak_volume\n",
    "\n",
    "    if (volume <= bucket_capacity) and (time < tap_off_time):\n",
    "        volume += dV             # Update the new volume\n",
    "\n",
    "plt.plot(all_time, all_volume)\n",
    "plt.ylabel('Volume(L)')\n",
    "plt.xlabel('Time(mins)')"
   ]
  },
  {
   "cell_type": "code",
   "execution_count": 19,
   "id": "66a4075b",
   "metadata": {},
   "outputs": [
    {
     "ename": "ValueError",
     "evalue": "cannot convert float NaN to integer",
     "output_type": "error",
     "traceback": [
      "\u001b[1;31m---------------------------------------------------------------------------\u001b[0m",
      "\u001b[1;31mValueError\u001b[0m                                Traceback (most recent call last)",
      "Cell \u001b[1;32mIn[19], line 5\u001b[0m\n\u001b[0;32m      3\u001b[0m dt \u001b[38;5;241m=\u001b[39m \u001b[38;5;241m.001\u001b[39m                        \u001b[38;5;66;03m# Time step (mins)\u001b[39;00m\n\u001b[0;32m      4\u001b[0m rate \u001b[38;5;241m=\u001b[39m \u001b[38;5;241m5\u001b[39m                         \u001b[38;5;66;03m# Filling rate (L/min)\u001b[39;00m\n\u001b[1;32m----> 5\u001b[0m leak_rate \u001b[38;5;241m=\u001b[39m \u001b[43mleak_rate\u001b[49m\u001b[43m(\u001b[49m\u001b[43mvolume\u001b[49m\u001b[43m)\u001b[49m                  \u001b[38;5;66;03m# L/min\u001b[39;00m\n\u001b[0;32m      6\u001b[0m bucket_capacity \u001b[38;5;241m=\u001b[39m \u001b[38;5;241m9\u001b[39m              \u001b[38;5;66;03m# L\u001b[39;00m\n\u001b[0;32m      7\u001b[0m all_volume \u001b[38;5;241m=\u001b[39m []                  \u001b[38;5;66;03m# To keep track of all volumes\u001b[39;00m\n",
      "Cell \u001b[1;32mIn[17], line 6\u001b[0m, in \u001b[0;36mleak_rate\u001b[1;34m(volume)\u001b[0m\n\u001b[0;32m      4\u001b[0m water_speed \u001b[38;5;241m=\u001b[39m np\u001b[38;5;241m.\u001b[39msqrt(\u001b[38;5;241m2\u001b[39m\u001b[38;5;241m*\u001b[39m\u001b[38;5;241m9.8\u001b[39m\u001b[38;5;241m*\u001b[39mh)\n\u001b[0;32m      5\u001b[0m leak_rate \u001b[38;5;241m=\u001b[39m \u001b[38;5;241m0.0001\u001b[39m\u001b[38;5;241m*\u001b[39mwater_speed         \u001b[38;5;66;03m#leak_rate is in m^3 per second\u001b[39;00m\n\u001b[1;32m----> 6\u001b[0m leak_rate \u001b[38;5;241m=\u001b[39m \u001b[38;5;28;43mint\u001b[39;49m\u001b[43m(\u001b[49m\u001b[43mleak_rate\u001b[49m\u001b[38;5;241;43m*\u001b[39;49m\u001b[38;5;241;43m60000\u001b[39;49m\u001b[43m)\u001b[49m\n\u001b[0;32m      7\u001b[0m \u001b[38;5;28;01mreturn\u001b[39;00m leak_rate\n",
      "\u001b[1;31mValueError\u001b[0m: cannot convert float NaN to integer"
     ]
    }
   ],
   "source": [
    "tap_off_time = 3                 # When the tap goes off\n",
    "max_time = 4.0                    # Maximum time (mins)\n",
    "dt = .001                        # Time step (mins)\n",
    "rate = 5                         # Filling rate (L/min)\n",
    "leak_rate = leak_rate(volume)                  # L/min\n",
    "bucket_capacity = 9              # L\n",
    "all_volume = []                  # To keep track of all volumes\n",
    "all_time = []                    # To keep track of all times\n",
    "volume = 0                       # Starting volume\n",
    "time = 0\n",
    "\n",
    "while time <= max_time:\n",
    "    all_time.append(time)\n",
    "    all_volume.append(volume)\n",
    "    dV = rate * dt\n",
    "\n",
    "    leak_volume = leak_rate * dt\n",
    "    volume -= leak_volume\n",
    "\n",
    "    if (volume <= bucket_capacity) and (time < tap_off_time):\n",
    "        volume += dV    \n",
    "\n",
    "    time += dt             \n",
    "\n",
    "plt.plot(all_time, all_volume)\n",
    "plt.ylabel('Volume(L)')\n",
    "plt.xlabel('Time(mins)')\n",
    "plt.hlines(bucket_capacity, 0, max_time, colors='grey', ls='dashed')"
   ]
  },
  {
   "cell_type": "code",
   "execution_count": null,
   "id": "00e796fc",
   "metadata": {},
   "outputs": [],
   "source": []
  }
 ],
 "metadata": {
  "kernelspec": {
   "display_name": "Python 3 (ipykernel)",
   "language": "python",
   "name": "python3"
  },
  "language_info": {
   "codemirror_mode": {
    "name": "ipython",
    "version": 3
   },
   "file_extension": ".py",
   "mimetype": "text/x-python",
   "name": "python",
   "nbconvert_exporter": "python",
   "pygments_lexer": "ipython3",
   "version": "3.10.8"
  },
  "toc": {
   "base_numbering": 1,
   "nav_menu": {},
   "number_sections": true,
   "sideBar": true,
   "skip_h1_title": false,
   "title_cell": "Table of Contents",
   "title_sidebar": "Contents",
   "toc_cell": false,
   "toc_position": {},
   "toc_section_display": true,
   "toc_window_display": false
  },
  "varInspector": {
   "cols": {
    "lenName": 16,
    "lenType": 16,
    "lenVar": 40
   },
   "kernels_config": {
    "python": {
     "delete_cmd_postfix": "",
     "delete_cmd_prefix": "del ",
     "library": "var_list.py",
     "varRefreshCmd": "print(var_dic_list())"
    },
    "r": {
     "delete_cmd_postfix": ") ",
     "delete_cmd_prefix": "rm(",
     "library": "var_list.r",
     "varRefreshCmd": "cat(var_dic_list()) "
    }
   },
   "types_to_exclude": [
    "module",
    "function",
    "builtin_function_or_method",
    "instance",
    "_Feature"
   ],
   "window_display": false
  },
  "vscode": {
   "interpreter": {
    "hash": "31f2aee4e71d21fbe5cf8b01ff0e069b9275f58929596ceb00d14d90e3e16cd6"
   }
  }
 },
 "nbformat": 4,
 "nbformat_minor": 5
}
