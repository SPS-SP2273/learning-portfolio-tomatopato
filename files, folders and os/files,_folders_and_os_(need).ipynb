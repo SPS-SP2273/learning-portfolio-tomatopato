{
 "cells": [
  {
   "cell_type": "markdown",
   "id": "123456",
   "metadata": {},
   "source": [
    "<div style=\"text-align:left;font-size:2em\"><span style=\"font-weight:bolder;font-size:1.25em\">SP2273 | Learning Portfolio</span><br><br><span style=\"font-weight:bold;color:darkred\">Files, Folders and OS (Need)</span></div>"
   ]
  },
  {
   "cell_type": "markdown",
   "id": "4e72125e",
   "metadata": {},
   "source": [
    "## 1 Important concepts"
   ]
  },
  {
   "cell_type": "markdown",
   "id": "643281f5",
   "metadata": {},
   "source": [
    "### 1.1 Path"
   ]
  },
  {
   "cell_type": "markdown",
   "id": "ace8c201",
   "metadata": {},
   "source": [
    "there are absolute and relative paths"
   ]
  },
  {
   "cell_type": "markdown",
   "id": "e33c87c0",
   "metadata": {},
   "source": [
    "absolute paths define the exact location of the folder"
   ]
  },
  {
   "cell_type": "markdown",
   "id": "339e2fe6",
   "metadata": {},
   "source": [
    "eg. C:\\\\Users\\Chammika\\Desktop\\data-01.txt"
   ]
  },
  {
   "cell_type": "markdown",
   "id": "75d411a7",
   "metadata": {},
   "source": [
    "### 1.2 More about relative paths"
   ]
  },
  {
   "cell_type": "markdown",
   "id": "48da57bf",
   "metadata": {},
   "source": [
    ".\\data-files\\data-01.txt means the file data-01.txt in the folder data-files in the current folder.\n",
    "\n",
    "\n",
    "..\\data-files\\data-01.txt means the file data-01.txt in the folder data-files located in the folder above."
   ]
  },
  {
   "cell_type": "markdown",
   "id": "97f20a5c",
   "metadata": {},
   "source": [
    "~/Desktop allows us to refer to our home directory"
   ]
  },
  {
   "cell_type": "markdown",
   "id": "d66c84f8",
   "metadata": {},
   "source": [
    "### 1.3 Path separator"
   ]
  },
  {
   "cell_type": "markdown",
   "id": "a4e3f1cd",
   "metadata": {},
   "source": [
    "Windows uses \\ as the path separator"
   ]
  },
  {
   "cell_type": "markdown",
   "id": "9f41059e",
   "metadata": {},
   "source": [
    "### Text files vs Binary files"
   ]
  },
  {
   "cell_type": "markdown",
   "id": "6431549b",
   "metadata": {},
   "source": [
    "Text files are simple and can be opened, and their contents are examined by almost any software. Eg Notepad, Textedit, Jupyter "
   ]
  },
  {
   "cell_type": "markdown",
   "id": "5e37d090",
   "metadata": {},
   "source": [
    "Binary files, in contrast, require some processing to make sense of what they contain, and some binary files will only run on specific OSs. Eg. Excel.app for Mac OS X and Excel.exe for Windows"
   ]
  },
  {
   "cell_type": "markdown",
   "id": "9876e494",
   "metadata": {},
   "source": [
    "### Extensions"
   ]
  },
  {
   "cell_type": "markdown",
   "id": "77df8453",
   "metadata": {},
   "source": [
    "Extensions let the OS know what software or app to extract the details in a file"
   ]
  },
  {
   "cell_type": "markdown",
   "id": "737a843a",
   "metadata": {},
   "source": [
    "### 1.4 Opening and closing files"
   ]
  },
  {
   "cell_type": "code",
   "execution_count": null,
   "id": "0201aabf",
   "metadata": {
    "code_folding": []
   },
   "outputs": [],
   "source": [
    "with open('spectrum-01.txt', 'r') as file:\n",
    "    file_content = file.read()\n",
    "print(file_content)    "
   ]
  },
  {
   "cell_type": "code",
   "execution_count": null,
   "id": "042ed292",
   "metadata": {},
   "outputs": [],
   "source": [
    "text = 'Far out in the uncharted backwaters of the unfashionable end of the western spiral arm of the Galaxy lies a small unregarded yellow sun.\\nOrbiting this at a distance of roughly ninety-two million miles is an utterly insignificant little blue green planet whose ape-descended life forms are so amazingly primitive that they still think digital watches are a pretty neat idea.'"
   ]
  },
  {
   "cell_type": "code",
   "execution_count": null,
   "id": "8f80deed",
   "metadata": {},
   "outputs": [],
   "source": [
    "with open('my-text-once.txt', 'w') as file:\n",
    "    file.write(text)"
   ]
  },
  {
   "cell_type": "code",
   "execution_count": null,
   "id": "ed66ceda",
   "metadata": {},
   "outputs": [],
   "source": [
    "with open('my-text-lines.txt', 'w') as file:\n",
    "    for line in text.splitlines():\n",
    "        file.writelines(line)"
   ]
  },
  {
   "cell_type": "markdown",
   "id": "1204c053",
   "metadata": {},
   "source": [
    "## 2 Playing with the OS"
   ]
  },
  {
   "cell_type": "markdown",
   "id": "91aba50c",
   "metadata": {},
   "source": [
    "### 2.1 Some packages"
   ]
  },
  {
   "cell_type": "code",
   "execution_count": 2,
   "id": "6380d22b",
   "metadata": {},
   "outputs": [],
   "source": [
    "import os\n",
    "import glob\n",
    "import shutil"
   ]
  },
  {
   "cell_type": "markdown",
   "id": "1dc5bbe5",
   "metadata": {},
   "source": [
    "### 2.2 OS safe paths"
   ]
  },
  {
   "cell_type": "code",
   "execution_count": 27,
   "id": "3edcc2f1",
   "metadata": {},
   "outputs": [
    {
     "name": "stdout",
     "output_type": "stream",
     "text": [
      ".\\all-data\\sg-data\\data-01.txt\n"
     ]
    }
   ],
   "source": [
    "path = os.path.join('.', 'all-data', 'sg-data', 'data-01.txt')\n",
    "print(path)"
   ]
  },
  {
   "cell_type": "markdown",
   "id": "d19c2ea3",
   "metadata": {},
   "source": [
    "### 2.3 Creating folders"
   ]
  },
  {
   "cell_type": "code",
   "execution_count": null,
   "id": "69979701",
   "metadata": {},
   "outputs": [],
   "source": [
    "os.mkdir('people')\n",
    "\n",
    "for person in ['Jonh', 'Paul', 'Ringo']:\n",
    "    path = os.path.join('people', person)\n",
    "    print(f'Creating {path}')\n",
    "    os.mkdir(path)"
   ]
  },
  {
   "cell_type": "markdown",
   "id": "6ba8986d",
   "metadata": {},
   "source": [
    "### 2.4 Checking for existence"
   ]
  },
  {
   "cell_type": "code",
   "execution_count": null,
   "id": "fbf5d854",
   "metadata": {},
   "outputs": [],
   "source": [
    "for person in ['Jonh', 'Paul', 'Ringo']:\n",
    "    path = os.path.join('people', person)\n",
    "    try:\n",
    "        os.mkdir(path)\n",
    "        print(f'Creating {path}')\n",
    "    except FileExistsError:\n",
    "        print(f'{path} already exists; skipping creation.')"
   ]
  },
  {
   "cell_type": "code",
   "execution_count": null,
   "id": "95aad1a7",
   "metadata": {},
   "outputs": [],
   "source": [
    "for person in ['Jonh', 'Paul', 'Ringo']:\n",
    "    path = os.path.join('people', person)\n",
    "    if os.path.exists(path):\n",
    "        print(f'{path} already exists; skipping creation.')\n",
    "    else:\n",
    "        os.mkdir(path)\n",
    "        print(f'Creating {path}')"
   ]
  },
  {
   "cell_type": "markdown",
   "id": "17a5181c",
   "metadata": {},
   "source": [
    "### 2.5 Copying files"
   ]
  },
  {
   "cell_type": "code",
   "execution_count": null,
   "id": "bb6a2f3c",
   "metadata": {},
   "outputs": [],
   "source": [
    "for person in ['Jonh', 'Paul', 'Ringo']:\n",
    "    path_to_destination = os.path.join('people', person)\n",
    "    shutil.copy('sp2273_logo.png', path_to_destination)\n",
    "    print(f'Copied file to {path_to_destination}')"
   ]
  },
  {
   "cell_type": "code",
   "execution_count": null,
   "id": "29ebd636",
   "metadata": {},
   "outputs": [],
   "source": [
    "for person in ['Jonh', 'Paul', 'Ringo']:\n",
    "    # Create folder 'imgs'\n",
    "    path_to_imgs = os.path.join('people', person, 'imgs')\n",
    "    if not os.path.exists(path_to_imgs):\n",
    "        os.mkdir(path_to_imgs)\n",
    "\n",
    "    # Move logo file\n",
    "    current_path_of_logo = os.path.join('people', person, 'sp2273_logo.png')\n",
    "    new_path_of_logo = os.path.join('people', person, 'imgs', 'sp2273_logo.png')\n",
    "\n",
    "    shutil.move(current_path_of_logo, new_path_of_logo)\n",
    "    print(f'Moved logo to {new_path_of_logo}')"
   ]
  },
  {
   "cell_type": "markdown",
   "id": "1dad3093",
   "metadata": {},
   "source": [
    "### 2.6 Listing files"
   ]
  },
  {
   "cell_type": "code",
   "execution_count": null,
   "id": "ce2605f1",
   "metadata": {},
   "outputs": [],
   "source": [
    "glob.glob('*')"
   ]
  },
  {
   "cell_type": "code",
   "execution_count": null,
   "id": "9f3a903b",
   "metadata": {},
   "outputs": [],
   "source": [
    "glob.glob('peo*')"
   ]
  },
  {
   "cell_type": "code",
   "execution_count": null,
   "id": "1f3e8dd6",
   "metadata": {},
   "outputs": [],
   "source": [
    "glob.glob('peo*/*')"
   ]
  },
  {
   "cell_type": "code",
   "execution_count": null,
   "id": "318f8583",
   "metadata": {},
   "outputs": [],
   "source": [
    "glob.glob('people/**', recursive=True)"
   ]
  },
  {
   "cell_type": "code",
   "execution_count": null,
   "id": "04a29c85",
   "metadata": {},
   "outputs": [],
   "source": [
    "glob.glob('people/**/*.png', recursive=True)"
   ]
  },
  {
   "cell_type": "markdown",
   "id": "16c18bcb",
   "metadata": {},
   "source": [
    "### 2.7 Moving about"
   ]
  },
  {
   "cell_type": "code",
   "execution_count": null,
   "id": "f1112f1b",
   "metadata": {},
   "outputs": [],
   "source": [
    "os.getcwd()"
   ]
  },
  {
   "cell_type": "code",
   "execution_count": null,
   "id": "a67b0bac",
   "metadata": {},
   "outputs": [],
   "source": [
    "os.chdir('people/Ringo')"
   ]
  },
  {
   "cell_type": "markdown",
   "id": "2885f3b7",
   "metadata": {},
   "source": [
    "### 2.8 Extracting Info"
   ]
  },
  {
   "cell_type": "code",
   "execution_count": null,
   "id": "89949248",
   "metadata": {},
   "outputs": [],
   "source": [
    "path = 'people/Ringo/imgs/sp2273_logo.png'\n",
    "filename = path.split(os.path.sep)[-1]\n",
    "extension = filename.split('.')[-1]\n",
    "print(filename, extension)"
   ]
  },
  {
   "cell_type": "code",
   "execution_count": null,
   "id": "029ac0a6",
   "metadata": {},
   "outputs": [],
   "source": [
    "path = 'people/Ringo/imgs/sp2273_logo.png'\n",
    "os.path.split(path)      # Split filename from the rest"
   ]
  },
  {
   "cell_type": "code",
   "execution_count": null,
   "id": "0aac6b20",
   "metadata": {},
   "outputs": [],
   "source": [
    "os.path.splitext(path)   # Split extension"
   ]
  },
  {
   "cell_type": "code",
   "execution_count": null,
   "id": "8df1d6f8",
   "metadata": {},
   "outputs": [],
   "source": [
    "os.path.dirname(path)    # Show the directory"
   ]
  },
  {
   "cell_type": "markdown",
   "id": "eb9b57f5",
   "metadata": {},
   "source": [
    "### 2.9 Deleting stuff"
   ]
  },
  {
   "cell_type": "code",
   "execution_count": 6,
   "id": "3479d777",
   "metadata": {},
   "outputs": [
    {
     "ename": "FileNotFoundError",
     "evalue": "[WinError 2] The system cannot find the file specified: 'people/Ringo/imgs/sp2273_logo.png'",
     "output_type": "error",
     "traceback": [
      "\u001b[1;31m---------------------------------------------------------------------------\u001b[0m",
      "\u001b[1;31mFileNotFoundError\u001b[0m                         Traceback (most recent call last)",
      "Cell \u001b[1;32mIn[6], line 1\u001b[0m\n\u001b[1;32m----> 1\u001b[0m \u001b[43mos\u001b[49m\u001b[38;5;241;43m.\u001b[39;49m\u001b[43mremove\u001b[49m\u001b[43m(\u001b[49m\u001b[38;5;124;43m'\u001b[39;49m\u001b[38;5;124;43mpeople/Ringo/imgs/sp2273_logo.png\u001b[39;49m\u001b[38;5;124;43m'\u001b[39;49m\u001b[43m)\u001b[49m\n",
      "\u001b[1;31mFileNotFoundError\u001b[0m: [WinError 2] The system cannot find the file specified: 'people/Ringo/imgs/sp2273_logo.png'"
     ]
    }
   ],
   "source": [
    "os.remove('people/Ringo/imgs/sp2273_logo.png')"
   ]
  },
  {
   "cell_type": "code",
   "execution_count": 9,
   "id": "8a0dddec",
   "metadata": {},
   "outputs": [],
   "source": [
    "os.rmdir('people/Ringo/imgs')"
   ]
  },
  {
   "cell_type": "code",
   "execution_count": 10,
   "id": "62dd62c9",
   "metadata": {},
   "outputs": [],
   "source": [
    "os.rmdir('people/Ringo')"
   ]
  },
  {
   "cell_type": "code",
   "execution_count": 12,
   "id": "5d68dc37",
   "metadata": {},
   "outputs": [
    {
     "ename": "FileNotFoundError",
     "evalue": "[WinError 3] The system cannot find the path specified: 'people/Ringo'",
     "output_type": "error",
     "traceback": [
      "\u001b[1;31m---------------------------------------------------------------------------\u001b[0m",
      "\u001b[1;31mFileNotFoundError\u001b[0m                         Traceback (most recent call last)",
      "Cell \u001b[1;32mIn[12], line 1\u001b[0m\n\u001b[1;32m----> 1\u001b[0m \u001b[43mshutil\u001b[49m\u001b[38;5;241;43m.\u001b[39;49m\u001b[43mrmtree\u001b[49m\u001b[43m(\u001b[49m\u001b[38;5;124;43m'\u001b[39;49m\u001b[38;5;124;43mpeople/Ringo\u001b[39;49m\u001b[38;5;124;43m'\u001b[39;49m\u001b[43m)\u001b[49m\n",
      "File \u001b[1;32m~\\miniconda3\\lib\\shutil.py:749\u001b[0m, in \u001b[0;36mrmtree\u001b[1;34m(path, ignore_errors, onerror)\u001b[0m\n\u001b[0;32m    747\u001b[0m     \u001b[38;5;66;03m# can't continue even if onerror hook returns\u001b[39;00m\n\u001b[0;32m    748\u001b[0m     \u001b[38;5;28;01mreturn\u001b[39;00m\n\u001b[1;32m--> 749\u001b[0m \u001b[38;5;28;01mreturn\u001b[39;00m \u001b[43m_rmtree_unsafe\u001b[49m\u001b[43m(\u001b[49m\u001b[43mpath\u001b[49m\u001b[43m,\u001b[49m\u001b[43m \u001b[49m\u001b[43monerror\u001b[49m\u001b[43m)\u001b[49m\n",
      "File \u001b[1;32m~\\miniconda3\\lib\\shutil.py:600\u001b[0m, in \u001b[0;36m_rmtree_unsafe\u001b[1;34m(path, onerror)\u001b[0m\n\u001b[0;32m    598\u001b[0m         entries \u001b[38;5;241m=\u001b[39m \u001b[38;5;28mlist\u001b[39m(scandir_it)\n\u001b[0;32m    599\u001b[0m \u001b[38;5;28;01mexcept\u001b[39;00m \u001b[38;5;167;01mOSError\u001b[39;00m:\n\u001b[1;32m--> 600\u001b[0m     \u001b[43monerror\u001b[49m\u001b[43m(\u001b[49m\u001b[43mos\u001b[49m\u001b[38;5;241;43m.\u001b[39;49m\u001b[43mscandir\u001b[49m\u001b[43m,\u001b[49m\u001b[43m \u001b[49m\u001b[43mpath\u001b[49m\u001b[43m,\u001b[49m\u001b[43m \u001b[49m\u001b[43msys\u001b[49m\u001b[38;5;241;43m.\u001b[39;49m\u001b[43mexc_info\u001b[49m\u001b[43m(\u001b[49m\u001b[43m)\u001b[49m\u001b[43m)\u001b[49m\n\u001b[0;32m    601\u001b[0m     entries \u001b[38;5;241m=\u001b[39m []\n\u001b[0;32m    602\u001b[0m \u001b[38;5;28;01mfor\u001b[39;00m entry \u001b[38;5;129;01min\u001b[39;00m entries:\n",
      "File \u001b[1;32m~\\miniconda3\\lib\\shutil.py:597\u001b[0m, in \u001b[0;36m_rmtree_unsafe\u001b[1;34m(path, onerror)\u001b[0m\n\u001b[0;32m    595\u001b[0m \u001b[38;5;28;01mdef\u001b[39;00m \u001b[38;5;21m_rmtree_unsafe\u001b[39m(path, onerror):\n\u001b[0;32m    596\u001b[0m     \u001b[38;5;28;01mtry\u001b[39;00m:\n\u001b[1;32m--> 597\u001b[0m         \u001b[38;5;28;01mwith\u001b[39;00m \u001b[43mos\u001b[49m\u001b[38;5;241;43m.\u001b[39;49m\u001b[43mscandir\u001b[49m\u001b[43m(\u001b[49m\u001b[43mpath\u001b[49m\u001b[43m)\u001b[49m \u001b[38;5;28;01mas\u001b[39;00m scandir_it:\n\u001b[0;32m    598\u001b[0m             entries \u001b[38;5;241m=\u001b[39m \u001b[38;5;28mlist\u001b[39m(scandir_it)\n\u001b[0;32m    599\u001b[0m     \u001b[38;5;28;01mexcept\u001b[39;00m \u001b[38;5;167;01mOSError\u001b[39;00m:\n",
      "\u001b[1;31mFileNotFoundError\u001b[0m: [WinError 3] The system cannot find the path specified: 'people/Ringo'"
     ]
    }
   ],
   "source": [
    "shutil.rmtree('people/Ringo')"
   ]
  },
  {
   "cell_type": "markdown",
   "id": "d7cb0b90",
   "metadata": {},
   "source": [
    "## Exercise 7 :  The OS is my oyster"
   ]
  },
  {
   "cell_type": "markdown",
   "id": "a9c0258f",
   "metadata": {},
   "source": [
    "**Q1**"
   ]
  },
  {
   "cell_type": "code",
   "execution_count": 43,
   "id": "b0aff819",
   "metadata": {},
   "outputs": [
    {
     "data": {
      "text/plain": [
       "'C:\\\\Users\\\\lisat\\\\OneDrive\\\\Documents\\\\SP2273\\\\learning-portfolio-tomatopato\\\\files, folders and os'"
      ]
     },
     "execution_count": 43,
     "metadata": {},
     "output_type": "execute_result"
    }
   ],
   "source": [
    "os.getcwd()"
   ]
  },
  {
   "cell_type": "markdown",
   "id": "be48ca13",
   "metadata": {},
   "source": [
    "**Q2**"
   ]
  },
  {
   "cell_type": "code",
   "execution_count": 50,
   "id": "e15e9150",
   "metadata": {},
   "outputs": [],
   "source": [
    "os.chdir(r'C:\\\\Users\\\\lisat\\\\OneDrive\\\\Documents\\\\SP2273\\\\learning-portfolio-tomatopato\\\\files, folders and os')"
   ]
  },
  {
   "cell_type": "code",
   "execution_count": 20,
   "id": "99ce387d",
   "metadata": {},
   "outputs": [],
   "source": [
    "os.mkdir('python_today')"
   ]
  },
  {
   "cell_type": "code",
   "execution_count": 77,
   "id": "88f44f2a",
   "metadata": {},
   "outputs": [
    {
     "data": {
      "text/plain": [
       "'C:\\\\Users\\\\lisat\\\\OneDrive\\\\Documents\\\\SP2273\\\\learning-portfolio-tomatopato\\\\files, folders and os\\\\python_today'"
      ]
     },
     "execution_count": 77,
     "metadata": {},
     "output_type": "execute_result"
    }
   ],
   "source": [
    "os.getcwd()"
   ]
  },
  {
   "cell_type": "markdown",
   "id": "bbe8bb57",
   "metadata": {},
   "source": [
    "**Q3**"
   ]
  },
  {
   "cell_type": "code",
   "execution_count": 52,
   "id": "e964a360",
   "metadata": {
    "code_folding": [],
    "scrolled": true
   },
   "outputs": [
    {
     "name": "stdout",
     "output_type": "stream",
     "text": [
      "Creating new_directory_01\n",
      "Creating new_directory_02\n",
      "Creating new_directory_03\n",
      "Creating new_directory_04\n",
      "Creating new_directory_05\n",
      "Creating new_directory_06\n",
      "Creating new_directory_07\n",
      "Creating new_directory_08\n",
      "Creating new_directory_09\n",
      "Creating new_directory_10\n",
      "Creating new_directory_11\n",
      "Creating new_directory_12\n",
      "Creating new_directory_13\n",
      "Creating new_directory_14\n",
      "Creating new_directory_15\n",
      "Creating new_directory_16\n",
      "Creating new_directory_17\n",
      "Creating new_directory_18\n",
      "Creating new_directory_19\n",
      "Creating new_directory_20\n",
      "Creating new_directory_21\n",
      "Creating new_directory_22\n",
      "Creating new_directory_23\n",
      "Creating new_directory_24\n",
      "Creating new_directory_25\n",
      "Creating new_directory_26\n",
      "Creating new_directory_27\n",
      "Creating new_directory_28\n",
      "Creating new_directory_29\n",
      "Creating new_directory_30\n",
      "Creating new_directory_31\n",
      "Creating new_directory_32\n",
      "Creating new_directory_33\n",
      "Creating new_directory_34\n",
      "Creating new_directory_35\n",
      "Creating new_directory_36\n",
      "Creating new_directory_37\n",
      "Creating new_directory_38\n",
      "Creating new_directory_39\n",
      "Creating new_directory_40\n",
      "Creating new_directory_41\n",
      "Creating new_directory_42\n",
      "Creating new_directory_43\n",
      "Creating new_directory_44\n",
      "Creating new_directory_45\n",
      "Creating new_directory_46\n",
      "Creating new_directory_47\n",
      "Creating new_directory_48\n",
      "Creating new_directory_49\n",
      "Creating new_directory_50\n"
     ]
    }
   ],
   "source": [
    "list = []\n",
    "for i in range(1,51):\n",
    "    list.append(f'new_directory_{i:02}')\n",
    "\n",
    "for folder in list:\n",
    "    path = os.path.join('python_today', folder)\n",
    "    print(f\"Creating {folder}\")\n",
    "    os.mkdir(path)"
   ]
  },
  {
   "cell_type": "markdown",
   "id": "c071d7ad",
   "metadata": {},
   "source": [
    "**Q4**"
   ]
  },
  {
   "cell_type": "code",
   "execution_count": 53,
   "id": "d832daec",
   "metadata": {},
   "outputs": [
    {
     "data": {
      "text/plain": [
       "['new_directory_01',\n",
       " 'new_directory_03',\n",
       " 'new_directory_05',\n",
       " 'new_directory_07',\n",
       " 'new_directory_09',\n",
       " 'new_directory_11',\n",
       " 'new_directory_13',\n",
       " 'new_directory_15',\n",
       " 'new_directory_17',\n",
       " 'new_directory_19',\n",
       " 'new_directory_21',\n",
       " 'new_directory_23',\n",
       " 'new_directory_25',\n",
       " 'new_directory_27',\n",
       " 'new_directory_29',\n",
       " 'new_directory_31',\n",
       " 'new_directory_33',\n",
       " 'new_directory_35',\n",
       " 'new_directory_37',\n",
       " 'new_directory_39',\n",
       " 'new_directory_41',\n",
       " 'new_directory_43',\n",
       " 'new_directory_45',\n",
       " 'new_directory_47',\n",
       " 'new_directory_49']"
      ]
     },
     "execution_count": 53,
     "metadata": {},
     "output_type": "execute_result"
    }
   ],
   "source": [
    "list_odd = []\n",
    "for i in range(1,51):\n",
    "    if i%2==0:\n",
    "        continue\n",
    "    else:\n",
    "        list_odd.append(f'new_directory_{i:02}')\n",
    "        \n",
    "list_odd"
   ]
  },
  {
   "cell_type": "code",
   "execution_count": 55,
   "id": "abc7010d",
   "metadata": {},
   "outputs": [],
   "source": [
    "os.chdir('python_today')"
   ]
  },
  {
   "cell_type": "code",
   "execution_count": 56,
   "id": "b05675b4",
   "metadata": {},
   "outputs": [],
   "source": [
    "for folder in list_odd:\n",
    "    os.rmdir(folder)"
   ]
  },
  {
   "cell_type": "code",
   "execution_count": 57,
   "id": "29188fba",
   "metadata": {},
   "outputs": [
    {
     "data": {
      "text/plain": [
       "['.ipynb_checkpoints',\n",
       " 'new_directory_02',\n",
       " 'new_directory_04',\n",
       " 'new_directory_06',\n",
       " 'new_directory_08',\n",
       " 'new_directory_10',\n",
       " 'new_directory_12',\n",
       " 'new_directory_14',\n",
       " 'new_directory_16',\n",
       " 'new_directory_18',\n",
       " 'new_directory_20',\n",
       " 'new_directory_22',\n",
       " 'new_directory_24',\n",
       " 'new_directory_26',\n",
       " 'new_directory_28',\n",
       " 'new_directory_30',\n",
       " 'new_directory_32',\n",
       " 'new_directory_34',\n",
       " 'new_directory_36',\n",
       " 'new_directory_38',\n",
       " 'new_directory_40',\n",
       " 'new_directory_42',\n",
       " 'new_directory_44',\n",
       " 'new_directory_46',\n",
       " 'new_directory_48',\n",
       " 'new_directory_50']"
      ]
     },
     "execution_count": 57,
     "metadata": {},
     "output_type": "execute_result"
    }
   ],
   "source": [
    "os.listdir()"
   ]
  },
  {
   "cell_type": "markdown",
   "id": "078151cc",
   "metadata": {},
   "source": [
    "**Q5**"
   ]
  },
  {
   "cell_type": "code",
   "execution_count": 83,
   "id": "43867af8",
   "metadata": {},
   "outputs": [
    {
     "data": {
      "text/plain": [
       "['haha_10', 'haha_20', 'haha_30', 'haha_40', 'haha_50']"
      ]
     },
     "execution_count": 83,
     "metadata": {},
     "output_type": "execute_result"
    }
   ],
   "source": [
    "old_list_5th = []\n",
    "for i in range(10,51,10):\n",
    "    old_list_5th.append(f'new_directory_{i:02}')\n",
    "\n",
    "new_list_5th = []\n",
    "for i in range(10,51,10):\n",
    "    new_list_5th.append(f'haha_{i:02}')"
   ]
  },
  {
   "cell_type": "code",
   "execution_count": 90,
   "id": "07c178bd",
   "metadata": {},
   "outputs": [],
   "source": [
    "os.chdir(r'C:\\\\Users\\\\lisat\\\\OneDrive\\\\Documents\\\\SP2273\\\\learning-portfolio-tomatopato\\\\files, folders and os')"
   ]
  },
  {
   "cell_type": "code",
   "execution_count": 91,
   "id": "c581802b",
   "metadata": {},
   "outputs": [
    {
     "data": {
      "text/plain": [
       "'C:\\\\Users\\\\lisat\\\\OneDrive\\\\Documents\\\\SP2273\\\\learning-portfolio-tomatopato\\\\files, folders and os'"
      ]
     },
     "execution_count": 91,
     "metadata": {},
     "output_type": "execute_result"
    }
   ],
   "source": [
    "os.getcwd()"
   ]
  },
  {
   "cell_type": "code",
   "execution_count": 84,
   "id": "002d430b",
   "metadata": {
    "code_folding": []
   },
   "outputs": [],
   "source": [
    "for old, new in zip(old_list_5th, new_list_5th):\n",
    "    os.rename(old,new)"
   ]
  },
  {
   "cell_type": "code",
   "execution_count": 85,
   "id": "1ad6a9b5",
   "metadata": {
    "scrolled": true
   },
   "outputs": [
    {
     "data": {
      "text/plain": [
       "['.ipynb_checkpoints',\n",
       " 'haha_10',\n",
       " 'haha_20',\n",
       " 'haha_30',\n",
       " 'haha_40',\n",
       " 'haha_50',\n",
       " 'new_directory_02',\n",
       " 'new_directory_04',\n",
       " 'new_directory_06',\n",
       " 'new_directory_08',\n",
       " 'new_directory_12',\n",
       " 'new_directory_14',\n",
       " 'new_directory_16',\n",
       " 'new_directory_18',\n",
       " 'new_directory_22',\n",
       " 'new_directory_24',\n",
       " 'new_directory_26',\n",
       " 'new_directory_28',\n",
       " 'new_directory_32',\n",
       " 'new_directory_34',\n",
       " 'new_directory_36',\n",
       " 'new_directory_38',\n",
       " 'new_directory_42',\n",
       " 'new_directory_44',\n",
       " 'new_directory_46',\n",
       " 'new_directory_48']"
      ]
     },
     "execution_count": 85,
     "metadata": {},
     "output_type": "execute_result"
    }
   ],
   "source": [
    "os.listdir()"
   ]
  },
  {
   "cell_type": "markdown",
   "id": "9714da0d",
   "metadata": {},
   "source": [
    "**Q6**"
   ]
  },
  {
   "cell_type": "code",
   "execution_count": 86,
   "id": "d52a22c7",
   "metadata": {
    "scrolled": true
   },
   "outputs": [
    {
     "data": {
      "text/plain": [
       "['haha_10', 'haha_20', 'haha_30', 'haha_40', 'haha_50']"
      ]
     },
     "execution_count": 86,
     "metadata": {},
     "output_type": "execute_result"
    }
   ],
   "source": [
    "glob.glob('haha*')"
   ]
  },
  {
   "cell_type": "code",
   "execution_count": 92,
   "id": "f6f3d0cb",
   "metadata": {},
   "outputs": [
    {
     "name": "stdout",
     "output_type": "stream",
     "text": [
      "Copied file to python_today\\haha_10\n",
      "Copied file to python_today\\haha_20\n",
      "Copied file to python_today\\haha_30\n",
      "Copied file to python_today\\haha_40\n",
      "Copied file to python_today\\haha_50\n"
     ]
    }
   ],
   "source": [
    "for haha_folder in new_list_5th:\n",
    "    path_to_destination = os.path.join('python_today', haha_folder)\n",
    "    shutil.copy('sp2273_logo.png', path_to_destination)\n",
    "    print(f'Copied file to {path_to_destination}')"
   ]
  },
  {
   "cell_type": "code",
   "execution_count": 97,
   "id": "98638b9b",
   "metadata": {},
   "outputs": [
    {
     "data": {
      "text/plain": [
       "['sp2273_logo.png']"
      ]
     },
     "execution_count": 97,
     "metadata": {},
     "output_type": "execute_result"
    }
   ],
   "source": [
    "os.listdir()"
   ]
  },
  {
   "cell_type": "markdown",
   "id": "75171baf",
   "metadata": {},
   "source": [
    "## Exercise 8 :  Tidying a collaboration"
   ]
  },
  {
   "cell_type": "markdown",
   "id": "187da518",
   "metadata": {},
   "source": [
    "**Q1**"
   ]
  },
  {
   "cell_type": "code",
   "execution_count": 103,
   "id": "27dd4ab0",
   "metadata": {},
   "outputs": [],
   "source": [
    "month_dict = {\n",
    "'jan': '01', 'feb': '02', 'mar': '03',\n",
    "'apr': '04', 'may': '05', 'jun': '06',\n",
    "'jul': '07', 'aug': '08', 'sep': '09',\n",
    "'oct': '10', 'nov': '11', 'dec': '12'\n",
    "}"
   ]
  },
  {
   "cell_type": "code",
   "execution_count": 130,
   "id": "123d91ed",
   "metadata": {},
   "outputs": [],
   "source": [
    "os.chdir(r'C:\\\\Users\\\\lisat\\\\OneDrive\\\\Documents\\\\SP2273\\\\learning-portfolio-tomatopato\\\\files, folders and os\\\\os-collaboration-exercise-data')"
   ]
  },
  {
   "cell_type": "code",
   "execution_count": 122,
   "id": "a62e32d7",
   "metadata": {},
   "outputs": [],
   "source": [
    "basedir = 'C:\\\\Users\\\\lisat\\\\OneDrive\\\\Documents\\\\SP2273\\\\learning-portfolio-tomatopato\\\\files, folders and os\\\\os-collaboration-exercise-data'"
   ]
  },
  {
   "cell_type": "code",
   "execution_count": 150,
   "id": "de4f0aff",
   "metadata": {},
   "outputs": [],
   "source": [
    "#for reference cus i made this mistake\n",
    "dumb_str = 'janfebmaroctdec'\n",
    "for key, value in month_dict.items():\n",
    "    new_str = dumb_str.replace(key,value)\n",
    "\n",
    "new_str   #---> output would be 'janfebmaroct12' as the new_str is not continuously saved\n",
    "\n",
    "dumb_str = 'janfebmaroctdec'\n",
    "for key, value in month_dict.items():\n",
    "    dumb_str = dumb_str.replace(key,value)\n",
    "#this works"
   ]
  },
  {
   "cell_type": "code",
   "execution_count": null,
   "id": "bd469cc4",
   "metadata": {
    "scrolled": false
   },
   "outputs": [],
   "source": [
    "for old_f in os.listdir(basedir):\n",
    "    str_old_f = str(old_f)\n",
    "    for key, value in month_dict.items():\n",
    "        str_old_f = str_old_f.replace(key,value)\n",
    "    os.rename(old_f, str_old_f)\n",
    "    print(f'{old_f} is renamed to {str_old_f}')"
   ]
  },
  {
   "cell_type": "markdown",
   "id": "a4517a57",
   "metadata": {},
   "source": [
    "**Q2**"
   ]
  },
  {
   "cell_type": "code",
   "execution_count": 211,
   "id": "f61ce94d",
   "metadata": {},
   "outputs": [],
   "source": [
    "def rename_my_file(old_file_name):\n",
    "    for key, value in month_dict.items():\n",
    "        old_file_name = old_file_name.replace(key,value)\n",
    "        new_file_name = old_file_name\n",
    "    return new_file_name"
   ]
  },
  {
   "cell_type": "markdown",
   "id": "f9bff8f0",
   "metadata": {},
   "source": [
    "**Q3**"
   ]
  },
  {
   "cell_type": "code",
   "execution_count": 210,
   "id": "f3c6ea88",
   "metadata": {},
   "outputs": [
    {
     "name": "stdout",
     "output_type": "stream",
     "text": [
      "oct-08_singapore.txt ----> 10-08_singapore.txt\n",
      "jul-10_cairo.txt ----> 07-10_cairo.txt\n",
      "may-15_dhaka.txt ----> 05-15_dhaka.txt\n",
      "may-13_cairo.txt ----> 05-13_cairo.txt\n",
      "oct-21_cairo.txt ----> 10-21_cairo.txt\n",
      "jan-10_singapore.txt ----> 01-10_singapore.txt\n",
      "jun-20_tokyo.txt ----> 06-20_tokyo.txt\n",
      "aug-06_jakarta.txt ----> 08-06_jakarta.txt\n",
      "dec-21_karachi.txt ----> 12-21_karachi.txt\n",
      "jan-01_tokyo.txt ----> jan-01_tokyo.txt\n"
     ]
    },
    {
     "data": {
      "text/plain": [
       "['10-08_singapore.txt',\n",
       " '07-10_cairo.txt',\n",
       " '05-15_dhaka.txt',\n",
       " '05-13_cairo.txt',\n",
       " '10-21_cairo.txt',\n",
       " '01-10_singapore.txt',\n",
       " '06-20_tokyo.txt',\n",
       " '08-06_jakarta.txt',\n",
       " '12-21_karachi.txt',\n",
       " 'jan-01_tokyo.txt']"
      ]
     },
     "execution_count": 210,
     "metadata": {},
     "output_type": "execute_result"
    }
   ],
   "source": [
    "test_list = ['oct-08_singapore.txt', 'jul-10_cairo.txt', 'may-15_dhaka.txt',\n",
    " 'may-13_cairo.txt', 'oct-21_cairo.txt', 'jan-10_singapore.txt',\n",
    " 'jun-20_tokyo.txt', 'aug-06_jakarta.txt', 'dec-21_karachi.txt',\n",
    " 'jan-01_tokyo.txt'] \n",
    "new_list = []\n",
    "\n",
    "for old_file_name in test_list:\n",
    "    new_file_name = rename_my_file(old_file_name)\n",
    "    print(f\"{old_file_name} ----> {new_file_name}\")\n",
    "    new_list.append(new_file_name)\n",
    "    \n",
    "new_list"
   ]
  },
  {
   "cell_type": "markdown",
   "id": "23b3db15",
   "metadata": {},
   "source": [
    "**Q4**\n",
    "\n",
    "**not sure on how to redefine my rename_my_file(old_file_name) function**"
   ]
  },
  {
   "cell_type": "code",
   "execution_count": 174,
   "id": "a7d66cef",
   "metadata": {},
   "outputs": [],
   "source": [
    "os.chdir(r'C:\\\\Users\\\\lisat\\\\OneDrive\\\\Documents\\\\SP2273\\\\learning-portfolio-tomatopato\\\\files, folders and os\\\\os-collaboration-exercise-data')"
   ]
  },
  {
   "cell_type": "code",
   "execution_count": 176,
   "id": "6f000bcd",
   "metadata": {
    "scrolled": true
   },
   "outputs": [
    {
     "data": {
      "text/plain": [
       "['01-01_manila.txt',\n",
       " '01-01_osaka.txt',\n",
       " '01-02_cairo.txt',\n",
       " '01-02_karachi.txt',\n",
       " '01-02_manila.txt',\n",
       " '01-03_cairo.txt',\n",
       " '01-03_jakarta.txt',\n",
       " '01-03_karachi.txt',\n",
       " '01-03_shanghai.txt',\n",
       " '01-04_cairo.txt',\n",
       " '01-04_jakarta.txt',\n",
       " '01-04_karachi.txt',\n",
       " '01-04_manila.txt',\n",
       " '01-05_cairo.txt',\n",
       " '01-05_melbourne.txt',\n",
       " '01-05_osaka.txt',\n",
       " '01-06_jakarta.txt',\n",
       " '01-06_karachi.txt',\n",
       " '01-06_melbourne.txt',\n",
       " '01-07_cairo.txt',\n",
       " '01-08_cairo.txt',\n",
       " '01-08_manila.txt',\n",
       " '01-08_osaka.txt',\n",
       " '01-08_tokyo.txt',\n",
       " '01-09_cairo.txt',\n",
       " '01-09_karachi.txt',\n",
       " '01-09_manila.txt',\n",
       " '01-09_melbourne.txt',\n",
       " '01-10_jakarta.txt',\n",
       " '01-10_karachi.txt',\n",
       " '01-10_shanghai.txt',\n",
       " '01-11_cairo.txt',\n",
       " '01-11_manila.txt',\n",
       " '01-11_melbourne.txt',\n",
       " '01-12_cairo.txt',\n",
       " '01-12_jakarta.txt',\n",
       " '01-12_karachi.txt',\n",
       " '01-12_melbourne.txt',\n",
       " '01-12_osaka.txt',\n",
       " '01-12_tokyo.txt',\n",
       " '01-13_cairo.txt',\n",
       " '01-13_jakarta.txt',\n",
       " '01-13_melbourne.txt',\n",
       " '01-14_karachi.txt',\n",
       " '01-14_manila.txt',\n",
       " '01-15_cairo.txt',\n",
       " '01-15_dhaka.txt',\n",
       " '01-15_manila.txt',\n",
       " '01-15_osaka.txt',\n",
       " '01-15_singapore.txt',\n",
       " '01-16_cairo.txt',\n",
       " '01-16_jakarta.txt',\n",
       " '01-16_melbourne.txt',\n",
       " '01-16_tokyo.txt',\n",
       " '01-17_karachi.txt',\n",
       " '01-18_karachi.txt',\n",
       " '01-18_manila.txt',\n",
       " '01-18_melbourne.txt',\n",
       " '01-18_osaka.txt',\n",
       " '01-19_cairo.txt',\n",
       " '01-19_jakarta.txt',\n",
       " '01-19_karachi.txt',\n",
       " '01-19_manila.txt',\n",
       " '01-19_melbourne.txt',\n",
       " '01-19_osaka.txt',\n",
       " '01-19_tokyo.txt',\n",
       " '01-20_cairo.txt',\n",
       " '01-20_karachi.txt',\n",
       " '01-20_osaka.txt',\n",
       " '01-20_tokyo.txt',\n",
       " '01-21_cairo.txt',\n",
       " '01-21_karachi.txt',\n",
       " '01-21_melbourne.txt',\n",
       " '01-22_karachi.txt',\n",
       " '01-22_melbourne.txt',\n",
       " '01-22_osaka.txt',\n",
       " '01-22_shanghai.txt',\n",
       " '01-22_tokyo.txt',\n",
       " '01-23_cairo.txt',\n",
       " '01-23_jakarta.txt',\n",
       " '01-23_manila.txt',\n",
       " '01-24_jakarta.txt',\n",
       " '01-24_karachi.txt',\n",
       " '01-24_manila.txt',\n",
       " '01-24_melbourne.txt',\n",
       " '01-24_tokyo.txt',\n",
       " '01-25_karachi.txt',\n",
       " '01-25_manila.txt',\n",
       " '01-25_melbourne.txt',\n",
       " '01-25_osaka.txt',\n",
       " '01-26_jakarta.txt',\n",
       " '01-26_karachi.txt',\n",
       " '01-26_manila.txt',\n",
       " '01-26_shanghai.txt',\n",
       " '01-27_cairo.txt',\n",
       " '01-27_melbourne.txt',\n",
       " '01-27_osaka.txt',\n",
       " '01-28_karachi.txt',\n",
       " '01-29_melbourne.txt',\n",
       " '01-29_shanghai.txt',\n",
       " '01-30_cairo.txt',\n",
       " '01-30_jakarta.txt',\n",
       " '01-30_karachi.txt',\n",
       " '01-30_manila.txt',\n",
       " '02-01_dhaka.txt',\n",
       " '02-01_manila.txt',\n",
       " '02-01_osaka.txt',\n",
       " '02-01_shanghai.txt',\n",
       " '02-01_singapore.txt',\n",
       " '02-02_jakarta.txt',\n",
       " '02-02_osaka.txt',\n",
       " '02-02_singapore.txt',\n",
       " '02-03_manila.txt',\n",
       " '02-03_osaka.txt',\n",
       " '02-03_singapore.txt',\n",
       " '02-03_tokyo.txt',\n",
       " '02-04_dhaka.txt',\n",
       " '02-04_jakarta.txt',\n",
       " '02-04_manila.txt',\n",
       " '02-04_osaka.txt',\n",
       " '02-04_singapore.txt',\n",
       " '02-04_tokyo.txt',\n",
       " '02-05_manila.txt',\n",
       " '02-05_shanghai.txt',\n",
       " '02-05_singapore.txt',\n",
       " '02-05_tokyo.txt',\n",
       " '02-06_jakarta.txt',\n",
       " '02-06_karachi.txt',\n",
       " '02-06_manila.txt',\n",
       " '02-06_osaka.txt',\n",
       " '02-06_tokyo.txt',\n",
       " '02-07_manila.txt',\n",
       " '02-07_osaka.txt',\n",
       " '02-07_tokyo.txt',\n",
       " '02-08_dhaka.txt',\n",
       " '02-08_karachi.txt',\n",
       " '02-08_manila.txt',\n",
       " '02-08_singapore.txt',\n",
       " '02-09_jakarta.txt',\n",
       " '02-09_manila.txt',\n",
       " '02-09_osaka.txt',\n",
       " '02-09_tokyo.txt',\n",
       " '02-10_cairo.txt',\n",
       " '02-10_jakarta.txt',\n",
       " '02-10_manila.txt',\n",
       " '02-10_osaka.txt',\n",
       " '02-11_osaka.txt',\n",
       " '02-11_shanghai.txt',\n",
       " '02-12_dhaka.txt',\n",
       " '02-12_manila.txt',\n",
       " '02-12_shanghai.txt',\n",
       " '02-12_singapore.txt',\n",
       " '02-12_tokyo.txt',\n",
       " '02-13_manila.txt',\n",
       " '02-13_melbourne.txt',\n",
       " '02-13_shanghai.txt',\n",
       " '02-13_singapore.txt',\n",
       " '02-13_tokyo.txt',\n",
       " '02-14_dhaka.txt',\n",
       " '02-14_jakarta.txt',\n",
       " '02-14_osaka.txt',\n",
       " '02-14_singapore.txt',\n",
       " '02-14_tokyo.txt',\n",
       " '02-15_jakarta.txt',\n",
       " '02-15_manila.txt',\n",
       " '02-15_shanghai.txt',\n",
       " '02-15_singapore.txt',\n",
       " '02-16_melbourne.txt',\n",
       " '02-16_osaka.txt',\n",
       " '02-16_shanghai.txt',\n",
       " '02-16_tokyo.txt',\n",
       " '02-17_cairo.txt',\n",
       " '02-17_karachi.txt',\n",
       " '02-17_shanghai.txt',\n",
       " '02-17_singapore.txt',\n",
       " '02-18_manila.txt',\n",
       " '02-18_shanghai.txt',\n",
       " '02-19_osaka.txt',\n",
       " '02-19_singapore.txt',\n",
       " '02-19_tokyo.txt',\n",
       " '02-20_cairo.txt',\n",
       " '02-20_dhaka.txt',\n",
       " '02-20_jakarta.txt',\n",
       " '02-20_osaka.txt',\n",
       " '02-20_singapore.txt',\n",
       " '02-20_tokyo.txt',\n",
       " '02-21_jakarta.txt',\n",
       " '02-21_manila.txt',\n",
       " '02-21_osaka.txt',\n",
       " '02-21_tokyo.txt',\n",
       " '02-22_cairo.txt',\n",
       " '02-22_dhaka.txt',\n",
       " '02-22_manila.txt',\n",
       " '02-22_tokyo.txt',\n",
       " '02-23_manila.txt',\n",
       " '02-23_shanghai.txt',\n",
       " '02-23_singapore.txt',\n",
       " '02-24_manila.txt',\n",
       " '02-24_osaka.txt',\n",
       " '02-24_singapore.txt',\n",
       " '02-24_tokyo.txt',\n",
       " '02-25_cairo.txt',\n",
       " '02-26_cairo.txt',\n",
       " '02-26_jakarta.txt',\n",
       " '02-26_manila.txt',\n",
       " '02-26_osaka.txt',\n",
       " '02-27_jakarta.txt',\n",
       " '02-27_manila.txt',\n",
       " '02-27_osaka.txt',\n",
       " '02-27_singapore.txt',\n",
       " '02-27_tokyo.txt',\n",
       " '03-02_manila.txt',\n",
       " '03-04_jakarta.txt',\n",
       " '03-04_osaka.txt',\n",
       " '03-04_tokyo.txt',\n",
       " '03-05_cairo.txt',\n",
       " '03-05_singapore.txt',\n",
       " '03-05_tokyo.txt',\n",
       " '03-06_cairo.txt',\n",
       " '03-06_karachi.txt',\n",
       " '03-07_melbourne.txt',\n",
       " '03-08_manila.txt',\n",
       " '03-08_osaka.txt',\n",
       " '03-09_jakarta.txt',\n",
       " '03-09_manila.txt',\n",
       " '03-09_tokyo.txt',\n",
       " '03-10_manila.txt',\n",
       " '03-10_osaka.txt',\n",
       " '03-11_jakarta.txt',\n",
       " '03-11_osaka.txt',\n",
       " '03-12_cairo.txt',\n",
       " '03-12_manila.txt',\n",
       " '03-12_osaka.txt',\n",
       " '03-13_manila.txt',\n",
       " '03-14_cairo.txt',\n",
       " '03-14_shanghai.txt',\n",
       " '03-14_tokyo.txt',\n",
       " '03-15_jakarta.txt',\n",
       " '03-15_tokyo.txt',\n",
       " '03-16_dhaka.txt',\n",
       " '03-16_manila.txt',\n",
       " '03-16_shanghai.txt',\n",
       " '03-16_tokyo.txt',\n",
       " '03-17_jakarta.txt',\n",
       " '03-17_manila.txt',\n",
       " '03-18_jakarta.txt',\n",
       " '03-18_manila.txt',\n",
       " '03-18_tokyo.txt',\n",
       " '03-19_cairo.txt',\n",
       " '03-19_osaka.txt',\n",
       " '03-20_jakarta.txt',\n",
       " '03-20_manila.txt',\n",
       " '03-22_manila.txt',\n",
       " '03-22_osaka.txt',\n",
       " '03-23_jakarta.txt',\n",
       " '03-24_cairo.txt',\n",
       " '03-24_manila.txt',\n",
       " '03-25_jakarta.txt',\n",
       " '03-25_manila.txt',\n",
       " '03-26_manila.txt',\n",
       " '03-26_tokyo.txt',\n",
       " '03-27_osaka.txt',\n",
       " '03-27_tokyo.txt',\n",
       " '03-29_manila.txt',\n",
       " '03-30_jakarta.txt',\n",
       " '03-30_osaka.txt',\n",
       " '04-01_melbourne.txt',\n",
       " '04-01_shanghai.txt',\n",
       " '04-01_singapore.txt',\n",
       " '04-02_cairo.txt',\n",
       " '04-02_jakarta.txt',\n",
       " '04-02_karachi.txt',\n",
       " '04-02_shanghai.txt',\n",
       " '04-03_manila.txt',\n",
       " '04-03_osaka.txt',\n",
       " '04-03_singapore.txt',\n",
       " '04-03_tokyo.txt',\n",
       " '04-04_manila.txt',\n",
       " '04-04_melbourne.txt',\n",
       " '04-04_shanghai.txt',\n",
       " '04-04_singapore.txt',\n",
       " '04-05_karachi.txt',\n",
       " '04-05_melbourne.txt',\n",
       " '04-05_shanghai.txt',\n",
       " '04-05_singapore.txt',\n",
       " '04-06_cairo.txt',\n",
       " '04-06_jakarta.txt',\n",
       " '04-06_karachi.txt',\n",
       " '04-06_manila.txt',\n",
       " '04-07_cairo.txt',\n",
       " '04-07_manila.txt',\n",
       " '04-07_melbourne.txt',\n",
       " '04-07_osaka.txt',\n",
       " '04-07_singapore.txt',\n",
       " '04-07_tokyo.txt',\n",
       " '04-08_shanghai.txt',\n",
       " '04-10_cairo.txt',\n",
       " '04-10_manila.txt',\n",
       " '04-10_melbourne.txt',\n",
       " '04-10_shanghai.txt',\n",
       " '04-10_singapore.txt',\n",
       " '04-10_tokyo.txt',\n",
       " '04-11_melbourne.txt',\n",
       " '04-11_shanghai.txt',\n",
       " '04-11_tokyo.txt',\n",
       " '04-12_cairo.txt',\n",
       " '04-12_karachi.txt',\n",
       " '04-12_melbourne.txt',\n",
       " '04-12_osaka.txt',\n",
       " '04-12_shanghai.txt',\n",
       " '04-12_singapore.txt',\n",
       " '04-12_tokyo.txt',\n",
       " '04-13_cairo.txt',\n",
       " '04-13_jakarta.txt',\n",
       " '04-13_manila.txt',\n",
       " '04-13_melbourne.txt',\n",
       " '04-13_shanghai.txt',\n",
       " '04-13_singapore.txt',\n",
       " '04-14_cairo.txt',\n",
       " '04-14_manila.txt',\n",
       " '04-14_melbourne.txt',\n",
       " '04-14_osaka.txt',\n",
       " '04-14_singapore.txt',\n",
       " '04-15_cairo.txt',\n",
       " '04-15_jakarta.txt',\n",
       " '04-15_melbourne.txt',\n",
       " '04-15_singapore.txt',\n",
       " '04-15_tokyo.txt',\n",
       " '04-16_jakarta.txt',\n",
       " '04-16_karachi.txt',\n",
       " '04-16_melbourne.txt',\n",
       " '04-16_osaka.txt',\n",
       " '04-16_shanghai.txt',\n",
       " '04-17_cairo.txt',\n",
       " '04-17_manila.txt',\n",
       " '04-17_shanghai.txt',\n",
       " '04-17_tokyo.txt',\n",
       " '04-18_osaka.txt',\n",
       " '04-18_shanghai.txt',\n",
       " '04-18_tokyo.txt',\n",
       " '04-19_dhaka.txt',\n",
       " '04-19_melbourne.txt',\n",
       " '04-19_shanghai.txt',\n",
       " '04-19_singapore.txt',\n",
       " '04-20_cairo.txt',\n",
       " '04-20_dhaka.txt',\n",
       " '04-20_jakarta.txt',\n",
       " '04-20_karachi.txt',\n",
       " '04-20_tokyo.txt',\n",
       " '04-21_cairo.txt',\n",
       " '04-21_jakarta.txt',\n",
       " '04-21_manila.txt',\n",
       " '04-21_melbourne.txt',\n",
       " '04-21_osaka.txt',\n",
       " '04-21_shanghai.txt',\n",
       " '04-21_singapore.txt',\n",
       " '04-21_tokyo.txt',\n",
       " '04-22_cairo.txt',\n",
       " '04-22_manila.txt',\n",
       " '04-22_singapore.txt',\n",
       " '04-23_cairo.txt',\n",
       " '04-23_dhaka.txt',\n",
       " '04-23_jakarta.txt',\n",
       " '04-23_osaka.txt',\n",
       " '04-23_shanghai.txt',\n",
       " '04-23_singapore.txt',\n",
       " '04-23_tokyo.txt',\n",
       " '04-24_cairo.txt',\n",
       " '04-24_jakarta.txt',\n",
       " '04-24_manila.txt',\n",
       " '04-24_melbourne.txt',\n",
       " '04-24_tokyo.txt',\n",
       " '04-25_manila.txt',\n",
       " '04-25_osaka.txt',\n",
       " '04-25_singapore.txt',\n",
       " '04-26_jakarta.txt',\n",
       " '04-26_karachi.txt',\n",
       " '04-26_singapore.txt',\n",
       " '04-27_karachi.txt',\n",
       " '04-27_melbourne.txt',\n",
       " '04-27_shanghai.txt',\n",
       " '04-27_tokyo.txt',\n",
       " '04-28_jakarta.txt',\n",
       " '04-28_manila.txt',\n",
       " '04-28_tokyo.txt',\n",
       " '04-29_manila.txt',\n",
       " '04-29_melbourne.txt',\n",
       " '04-29_shanghai.txt',\n",
       " '04-29_tokyo.txt',\n",
       " '05-01_cairo.txt',\n",
       " '05-01_dhaka.txt',\n",
       " '05-01_jakarta.txt',\n",
       " '05-01_shanghai.txt',\n",
       " '05-01_singapore.txt',\n",
       " '05-01_tokyo.txt',\n",
       " '05-02_cairo.txt',\n",
       " '05-02_dhaka.txt',\n",
       " '05-02_jakarta.txt',\n",
       " '05-02_melbourne.txt',\n",
       " '05-02_osaka.txt',\n",
       " '05-02_tokyo.txt',\n",
       " '05-03_jakarta.txt',\n",
       " '05-03_karachi.txt',\n",
       " '05-03_melbourne.txt',\n",
       " '05-03_shanghai.txt',\n",
       " '05-03_tokyo.txt',\n",
       " '05-04_dhaka.txt',\n",
       " '05-04_manila.txt',\n",
       " '05-04_melbourne.txt',\n",
       " '05-04_singapore.txt',\n",
       " '05-05_dhaka.txt',\n",
       " '05-05_jakarta.txt',\n",
       " '05-05_karachi.txt',\n",
       " '05-05_manila.txt',\n",
       " '05-05_melbourne.txt',\n",
       " '05-05_tokyo.txt',\n",
       " '05-06_karachi.txt',\n",
       " '05-06_shanghai.txt',\n",
       " '05-06_singapore.txt',\n",
       " '05-07_jakarta.txt',\n",
       " '05-08_jakarta.txt',\n",
       " '05-08_melbourne.txt',\n",
       " '05-08_singapore.txt',\n",
       " '05-08_tokyo.txt',\n",
       " '05-09_manila.txt',\n",
       " '05-09_melbourne.txt',\n",
       " '05-09_singapore.txt',\n",
       " '05-10_dhaka.txt',\n",
       " '05-10_karachi.txt',\n",
       " '05-10_manila.txt',\n",
       " '05-11_dhaka.txt',\n",
       " '05-11_manila.txt',\n",
       " '05-11_melbourne.txt',\n",
       " '05-12_cairo.txt',\n",
       " '05-12_singapore.txt',\n",
       " '05-13_jakarta.txt',\n",
       " '05-13_melbourne.txt',\n",
       " '05-13_singapore.txt',\n",
       " '05-14_dhaka.txt',\n",
       " '05-14_shanghai.txt',\n",
       " '05-15_dhaka.txt',\n",
       " '05-15_jakarta.txt',\n",
       " '05-15_tokyo.txt',\n",
       " '05-16_jakarta.txt',\n",
       " '05-16_melbourne.txt',\n",
       " '05-16_singapore.txt',\n",
       " '05-16_tokyo.txt',\n",
       " '05-17_cairo.txt',\n",
       " '05-17_dhaka.txt',\n",
       " '05-17_jakarta.txt',\n",
       " '05-17_karachi.txt',\n",
       " '05-17_tokyo.txt',\n",
       " '05-18_karachi.txt',\n",
       " '05-18_shanghai.txt',\n",
       " '05-19_melbourne.txt',\n",
       " '05-20_karachi.txt',\n",
       " '05-21_dhaka.txt',\n",
       " '05-21_melbourne.txt',\n",
       " '05-22_jakarta.txt',\n",
       " '05-22_melbourne.txt',\n",
       " '05-23_karachi.txt',\n",
       " '05-23_melbourne.txt',\n",
       " '05-23_singapore.txt',\n",
       " '05-23_tokyo.txt',\n",
       " '05-24_dhaka.txt',\n",
       " '05-24_manila.txt',\n",
       " '05-24_melbourne.txt',\n",
       " '05-25_cairo.txt',\n",
       " '05-25_jakarta.txt',\n",
       " '05-26_dhaka.txt',\n",
       " '05-26_karachi.txt',\n",
       " '05-26_manila.txt',\n",
       " '05-26_melbourne.txt',\n",
       " '05-26_shanghai.txt',\n",
       " '05-27_cairo.txt',\n",
       " '05-27_dhaka.txt',\n",
       " '05-27_karachi.txt',\n",
       " '05-27_manila.txt',\n",
       " '05-27_melbourne.txt',\n",
       " '05-28_dhaka.txt',\n",
       " '05-28_jakarta.txt',\n",
       " '05-28_karachi.txt',\n",
       " '05-28_shanghai.txt',\n",
       " '05-28_singapore.txt',\n",
       " '05-28_tokyo.txt',\n",
       " '05-29_cairo.txt',\n",
       " '05-29_dhaka.txt',\n",
       " '05-29_jakarta.txt',\n",
       " '05-29_karachi.txt',\n",
       " '05-30_cairo.txt',\n",
       " '05-30_dhaka.txt',\n",
       " '05-30_karachi.txt',\n",
       " '05-30_manila.txt',\n",
       " '05-30_melbourne.txt',\n",
       " '05-30_singapore.txt',\n",
       " '05-30_tokyo.txt',\n",
       " '06-01_singapore.txt',\n",
       " '06-02_dhaka.txt',\n",
       " '06-02_singapore.txt',\n",
       " '06-03_jakarta.txt',\n",
       " '06-03_manila.txt',\n",
       " '06-03_osaka.txt',\n",
       " '06-03_shanghai.txt',\n",
       " '06-04_dhaka.txt',\n",
       " '06-04_jakarta.txt',\n",
       " '06-04_osaka.txt',\n",
       " '06-05_dhaka.txt',\n",
       " '06-05_manila.txt',\n",
       " '06-05_osaka.txt',\n",
       " '06-05_singapore.txt',\n",
       " '06-05_tokyo.txt',\n",
       " '06-06_melbourne.txt',\n",
       " '06-06_osaka.txt',\n",
       " '06-06_shanghai.txt',\n",
       " '06-06_singapore.txt',\n",
       " '06-07_dhaka.txt',\n",
       " '06-07_shanghai.txt',\n",
       " '06-07_singapore.txt',\n",
       " '06-07_tokyo.txt',\n",
       " '06-08_jakarta.txt',\n",
       " '06-08_melbourne.txt',\n",
       " '06-08_shanghai.txt',\n",
       " '06-08_singapore.txt',\n",
       " '06-08_tokyo.txt',\n",
       " '06-09_dhaka.txt',\n",
       " '06-09_karachi.txt',\n",
       " '06-09_singapore.txt',\n",
       " '06-10_jakarta.txt',\n",
       " '06-10_manila.txt',\n",
       " '06-10_shanghai.txt',\n",
       " '06-11_dhaka.txt',\n",
       " '06-11_karachi.txt',\n",
       " '06-11_osaka.txt',\n",
       " '06-11_shanghai.txt',\n",
       " '06-11_singapore.txt',\n",
       " '06-11_tokyo.txt',\n",
       " '06-12_dhaka.txt',\n",
       " '06-12_karachi.txt',\n",
       " '06-12_manila.txt',\n",
       " '06-12_osaka.txt',\n",
       " '06-12_shanghai.txt',\n",
       " '06-12_tokyo.txt',\n",
       " '06-13_manila.txt',\n",
       " '06-13_shanghai.txt',\n",
       " '06-14_tokyo.txt',\n",
       " '06-15_jakarta.txt',\n",
       " '06-15_manila.txt',\n",
       " '06-15_melbourne.txt',\n",
       " '06-15_osaka.txt',\n",
       " '06-15_singapore.txt',\n",
       " '06-16_karachi.txt',\n",
       " '06-16_manila.txt',\n",
       " '06-16_melbourne.txt',\n",
       " '06-16_osaka.txt',\n",
       " '06-16_singapore.txt',\n",
       " '06-17_dhaka.txt',\n",
       " '06-17_manila.txt',\n",
       " '06-17_tokyo.txt',\n",
       " '06-18_dhaka.txt',\n",
       " '06-18_karachi.txt',\n",
       " '06-18_manila.txt',\n",
       " '06-18_tokyo.txt',\n",
       " '06-19_dhaka.txt',\n",
       " '06-19_osaka.txt',\n",
       " '06-20_dhaka.txt',\n",
       " '06-20_manila.txt',\n",
       " '06-20_tokyo.txt',\n",
       " '06-21_dhaka.txt',\n",
       " '06-21_jakarta.txt',\n",
       " '06-22_dhaka.txt',\n",
       " '06-22_jakarta.txt',\n",
       " '06-22_karachi.txt',\n",
       " '06-22_manila.txt',\n",
       " '06-22_tokyo.txt',\n",
       " '06-23_dhaka.txt',\n",
       " '06-23_osaka.txt',\n",
       " '06-23_singapore.txt',\n",
       " '06-23_tokyo.txt',\n",
       " '06-24_dhaka.txt',\n",
       " '06-24_manila.txt',\n",
       " '06-24_osaka.txt',\n",
       " '06-25_dhaka.txt',\n",
       " '06-25_jakarta.txt',\n",
       " '06-25_manila.txt',\n",
       " '06-25_tokyo.txt',\n",
       " '06-26_dhaka.txt',\n",
       " '06-26_manila.txt',\n",
       " '06-27_dhaka.txt',\n",
       " '06-27_manila.txt',\n",
       " '06-28_cairo.txt',\n",
       " '06-28_dhaka.txt',\n",
       " '06-28_jakarta.txt',\n",
       " '06-28_melbourne.txt',\n",
       " '06-28_osaka.txt',\n",
       " '06-28_tokyo.txt',\n",
       " '06-29_karachi.txt',\n",
       " '06-29_osaka.txt',\n",
       " '06-29_tokyo.txt',\n",
       " '07-01_dhaka.txt',\n",
       " '07-01_karachi.txt',\n",
       " '07-01_manila.txt',\n",
       " '07-01_melbourne.txt',\n",
       " '07-02_dhaka.txt',\n",
       " '07-02_melbourne.txt',\n",
       " '07-02_shanghai.txt',\n",
       " '07-02_singapore.txt',\n",
       " '07-02_tokyo.txt',\n",
       " '07-03_manila.txt',\n",
       " '07-03_melbourne.txt',\n",
       " '07-03_shanghai.txt',\n",
       " '07-03_singapore.txt',\n",
       " '07-04_cairo.txt',\n",
       " '07-04_jakarta.txt',\n",
       " '07-04_karachi.txt',\n",
       " '07-04_singapore.txt',\n",
       " '07-04_tokyo.txt',\n",
       " '07-05_dhaka.txt',\n",
       " '07-05_shanghai.txt',\n",
       " '07-05_singapore.txt',\n",
       " '07-05_tokyo.txt',\n",
       " '07-06_dhaka.txt',\n",
       " '07-06_manila.txt',\n",
       " '07-06_melbourne.txt',\n",
       " '07-06_osaka.txt',\n",
       " '07-06_shanghai.txt',\n",
       " '07-06_singapore.txt',\n",
       " '07-06_tokyo.txt',\n",
       " '07-07_manila.txt',\n",
       " '07-07_melbourne.txt',\n",
       " '07-07_osaka.txt',\n",
       " '07-07_singapore.txt',\n",
       " '07-08_cairo.txt',\n",
       " '07-08_dhaka.txt',\n",
       " '07-08_karachi.txt',\n",
       " '07-08_manila.txt',\n",
       " '07-08_shanghai.txt',\n",
       " '07-08_singapore.txt',\n",
       " '07-09_dhaka.txt',\n",
       " '07-09_jakarta.txt',\n",
       " '07-09_karachi.txt',\n",
       " '07-09_melbourne.txt',\n",
       " '07-09_shanghai.txt',\n",
       " '07-09_singapore.txt',\n",
       " '07-10_cairo.txt',\n",
       " '07-10_dhaka.txt',\n",
       " '07-10_shanghai.txt',\n",
       " '07-10_tokyo.txt',\n",
       " '07-11_dhaka.txt',\n",
       " '07-11_shanghai.txt',\n",
       " '07-11_tokyo.txt',\n",
       " '07-12_dhaka.txt',\n",
       " '07-12_jakarta.txt',\n",
       " '07-12_karachi.txt',\n",
       " '07-12_shanghai.txt',\n",
       " '07-12_tokyo.txt',\n",
       " '07-13_cairo.txt',\n",
       " '07-13_dhaka.txt',\n",
       " '07-13_osaka.txt',\n",
       " '07-13_tokyo.txt',\n",
       " '07-14_cairo.txt',\n",
       " '07-14_jakarta.txt',\n",
       " '07-14_karachi.txt',\n",
       " '07-14_singapore.txt',\n",
       " '07-15_cairo.txt',\n",
       " '07-15_dhaka.txt',\n",
       " '07-15_manila.txt',\n",
       " '07-15_osaka.txt',\n",
       " '07-15_shanghai.txt',\n",
       " '07-15_tokyo.txt',\n",
       " '07-16_cairo.txt',\n",
       " '07-16_dhaka.txt',\n",
       " '07-16_jakarta.txt',\n",
       " '07-16_karachi.txt',\n",
       " '07-16_manila.txt',\n",
       " '07-16_melbourne.txt',\n",
       " '07-16_osaka.txt',\n",
       " '07-16_singapore.txt',\n",
       " '07-17_cairo.txt',\n",
       " '07-17_melbourne.txt',\n",
       " '07-17_shanghai.txt',\n",
       " '07-17_singapore.txt',\n",
       " '07-18_dhaka.txt',\n",
       " '07-18_jakarta.txt',\n",
       " '07-18_singapore.txt',\n",
       " '07-19_cairo.txt',\n",
       " '07-19_manila.txt',\n",
       " '07-19_osaka.txt',\n",
       " '07-19_shanghai.txt',\n",
       " '07-19_tokyo.txt',\n",
       " '07-20_manila.txt',\n",
       " '07-20_melbourne.txt',\n",
       " '07-20_tokyo.txt',\n",
       " '07-21_jakarta.txt',\n",
       " '07-21_karachi.txt',\n",
       " '07-21_manila.txt',\n",
       " '07-21_melbourne.txt',\n",
       " '07-21_osaka.txt',\n",
       " '07-22_manila.txt',\n",
       " '07-22_melbourne.txt',\n",
       " '07-22_shanghai.txt',\n",
       " '07-22_singapore.txt',\n",
       " '07-23_dhaka.txt',\n",
       " '07-23_jakarta.txt',\n",
       " '07-23_karachi.txt',\n",
       " '07-23_melbourne.txt',\n",
       " '07-23_shanghai.txt',\n",
       " '07-23_singapore.txt',\n",
       " '07-24_cairo.txt',\n",
       " '07-24_dhaka.txt',\n",
       " '07-24_jakarta.txt',\n",
       " '07-24_karachi.txt',\n",
       " '07-24_shanghai.txt',\n",
       " '07-25_karachi.txt',\n",
       " '07-25_manila.txt',\n",
       " '07-25_melbourne.txt',\n",
       " '07-25_singapore.txt',\n",
       " '07-26_cairo.txt',\n",
       " '07-26_melbourne.txt',\n",
       " '07-26_shanghai.txt',\n",
       " '07-26_singapore.txt',\n",
       " '07-26_tokyo.txt',\n",
       " '07-27_cairo.txt',\n",
       " '07-27_jakarta.txt',\n",
       " '07-27_manila.txt',\n",
       " '07-27_melbourne.txt',\n",
       " '07-27_osaka.txt',\n",
       " '07-27_singapore.txt',\n",
       " '07-27_tokyo.txt',\n",
       " '07-28_dhaka.txt',\n",
       " '07-28_jakarta.txt',\n",
       " '07-28_manila.txt',\n",
       " '07-28_singapore.txt',\n",
       " '07-28_tokyo.txt',\n",
       " '07-29_cairo.txt',\n",
       " '07-29_singapore.txt',\n",
       " '07-29_tokyo.txt',\n",
       " '07-30_cairo.txt',\n",
       " '07-30_dhaka.txt',\n",
       " '07-30_jakarta.txt',\n",
       " '07-30_melbourne.txt',\n",
       " '08-01_cairo.txt',\n",
       " '08-01_shanghai.txt',\n",
       " '08-02_dhaka.txt',\n",
       " '08-02_jakarta.txt',\n",
       " '08-02_karachi.txt',\n",
       " '08-02_osaka.txt',\n",
       " '08-02_shanghai.txt',\n",
       " '08-03_cairo.txt',\n",
       " '08-03_dhaka.txt',\n",
       " '08-03_manila.txt',\n",
       " '08-03_melbourne.txt',\n",
       " '08-03_osaka.txt',\n",
       " '08-04_cairo.txt',\n",
       " '08-04_karachi.txt',\n",
       " '08-04_melbourne.txt',\n",
       " '08-04_shanghai.txt',\n",
       " '08-05_cairo.txt',\n",
       " '08-05_dhaka.txt',\n",
       " '08-05_jakarta.txt',\n",
       " '08-05_manila.txt',\n",
       " '08-05_shanghai.txt',\n",
       " '08-05_tokyo.txt',\n",
       " '08-06_dhaka.txt',\n",
       " '08-06_melbourne.txt',\n",
       " '08-06_osaka.txt',\n",
       " '08-06_singapore.txt',\n",
       " '08-07_cairo.txt',\n",
       " '08-07_jakarta.txt',\n",
       " '08-08_cairo.txt',\n",
       " '08-08_dhaka.txt',\n",
       " '08-08_melbourne.txt',\n",
       " '08-08_osaka.txt',\n",
       " '08-08_singapore.txt',\n",
       " '08-09_dhaka.txt',\n",
       " '08-09_jakarta.txt',\n",
       " '08-09_singapore.txt',\n",
       " '08-10_cairo.txt',\n",
       " '08-10_dhaka.txt',\n",
       " '08-10_melbourne.txt',\n",
       " '08-10_osaka.txt',\n",
       " '08-11_dhaka.txt',\n",
       " '08-11_jakarta.txt',\n",
       " '08-11_karachi.txt',\n",
       " '08-11_manila.txt',\n",
       " '08-11_melbourne.txt',\n",
       " '08-12_cairo.txt',\n",
       " '08-12_jakarta.txt',\n",
       " '08-12_karachi.txt',\n",
       " '08-12_manila.txt',\n",
       " '08-12_osaka.txt',\n",
       " '08-12_shanghai.txt',\n",
       " '08-12_tokyo.txt',\n",
       " '08-13_jakarta.txt',\n",
       " '08-13_manila.txt',\n",
       " '08-13_melbourne.txt',\n",
       " '08-13_osaka.txt',\n",
       " '08-13_shanghai.txt',\n",
       " '08-14_cairo.txt',\n",
       " '08-14_dhaka.txt',\n",
       " '08-14_karachi.txt',\n",
       " '08-14_shanghai.txt',\n",
       " '08-14_tokyo.txt',\n",
       " '08-15_manila.txt',\n",
       " '08-15_melbourne.txt',\n",
       " '08-15_osaka.txt',\n",
       " '08-15_shanghai.txt',\n",
       " '08-16_manila.txt',\n",
       " '08-16_shanghai.txt',\n",
       " '08-17_jakarta.txt',\n",
       " '08-17_karachi.txt',\n",
       " '08-17_manila.txt',\n",
       " '08-17_osaka.txt',\n",
       " '08-17_shanghai.txt',\n",
       " '08-18_cairo.txt',\n",
       " '08-18_dhaka.txt',\n",
       " '08-18_shanghai.txt',\n",
       " '08-19_cairo.txt',\n",
       " '08-19_dhaka.txt',\n",
       " '08-19_karachi.txt',\n",
       " '08-19_manila.txt',\n",
       " '08-19_melbourne.txt',\n",
       " '08-19_osaka.txt',\n",
       " '08-19_shanghai.txt',\n",
       " '08-20_cairo.txt',\n",
       " '08-20_dhaka.txt',\n",
       " '08-20_jakarta.txt',\n",
       " '08-20_karachi.txt',\n",
       " '08-20_osaka.txt',\n",
       " '08-20_tokyo.txt',\n",
       " '08-21_jakarta.txt',\n",
       " '08-21_karachi.txt',\n",
       " '08-21_manila.txt',\n",
       " '08-21_osaka.txt',\n",
       " '08-22_dhaka.txt',\n",
       " '08-22_jakarta.txt',\n",
       " '08-22_manila.txt',\n",
       " '08-22_melbourne.txt',\n",
       " '08-22_osaka.txt',\n",
       " '08-23_dhaka.txt',\n",
       " '08-24_cairo.txt',\n",
       " '08-24_manila.txt',\n",
       " '08-24_melbourne.txt',\n",
       " '08-24_osaka.txt',\n",
       " '08-24_singapore.txt',\n",
       " '08-25_cairo.txt',\n",
       " '08-25_dhaka.txt',\n",
       " '08-25_manila.txt',\n",
       " '08-25_melbourne.txt',\n",
       " '08-25_osaka.txt',\n",
       " '08-25_shanghai.txt',\n",
       " '08-26_cairo.txt',\n",
       " '08-26_dhaka.txt',\n",
       " '08-26_jakarta.txt',\n",
       " '08-26_karachi.txt',\n",
       " '08-26_manila.txt',\n",
       " '08-26_shanghai.txt',\n",
       " '08-27_dhaka.txt',\n",
       " '08-27_melbourne.txt',\n",
       " '08-28_jakarta.txt',\n",
       " '08-28_manila.txt',\n",
       " '08-28_melbourne.txt',\n",
       " '08-28_osaka.txt',\n",
       " '08-28_shanghai.txt',\n",
       " '08-29_karachi.txt',\n",
       " '08-29_manila.txt',\n",
       " '08-29_shanghai.txt',\n",
       " '08-30_dhaka.txt',\n",
       " '09-01_manila.txt',\n",
       " '09-01_melbourne.txt',\n",
       " '09-01_osaka.txt',\n",
       " '09-01_tokyo.txt',\n",
       " '09-02_cairo.txt',\n",
       " '09-02_melbourne.txt',\n",
       " '09-02_osaka.txt',\n",
       " '09-02_tokyo.txt',\n",
       " '09-03_jakarta.txt',\n",
       " '09-03_osaka.txt',\n",
       " '09-03_shanghai.txt',\n",
       " '09-03_singapore.txt',\n",
       " '09-04_cairo.txt',\n",
       " '09-04_karachi.txt',\n",
       " '09-04_shanghai.txt',\n",
       " '09-04_tokyo.txt',\n",
       " '09-05_cairo.txt',\n",
       " '09-05_jakarta.txt',\n",
       " '09-05_manila.txt',\n",
       " '09-05_shanghai.txt',\n",
       " '09-05_tokyo.txt',\n",
       " '09-06_karachi.txt',\n",
       " '09-06_melbourne.txt',\n",
       " '09-06_osaka.txt',\n",
       " '09-06_tokyo.txt',\n",
       " '09-07_cairo.txt',\n",
       " '09-07_karachi.txt',\n",
       " '09-07_osaka.txt',\n",
       " '09-07_shanghai.txt',\n",
       " '09-07_singapore.txt',\n",
       " '09-07_tokyo.txt',\n",
       " '09-08_cairo.txt',\n",
       " '09-08_osaka.txt',\n",
       " '09-08_shanghai.txt',\n",
       " '09-09_manila.txt',\n",
       " '09-09_melbourne.txt',\n",
       " '09-09_osaka.txt',\n",
       " '09-09_shanghai.txt',\n",
       " '09-10_karachi.txt',\n",
       " '09-10_tokyo.txt',\n",
       " '09-11_cairo.txt',\n",
       " '09-11_jakarta.txt',\n",
       " '09-11_manila.txt',\n",
       " '09-11_melbourne.txt',\n",
       " '09-11_osaka.txt',\n",
       " '09-11_shanghai.txt',\n",
       " '09-11_singapore.txt',\n",
       " '09-11_tokyo.txt',\n",
       " '09-12_cairo.txt',\n",
       " '09-12_jakarta.txt',\n",
       " '09-12_melbourne.txt',\n",
       " '09-12_singapore.txt',\n",
       " '09-13_cairo.txt',\n",
       " '09-13_jakarta.txt',\n",
       " '09-13_melbourne.txt',\n",
       " '09-13_osaka.txt',\n",
       " '09-13_singapore.txt',\n",
       " '09-13_tokyo.txt',\n",
       " '09-14_melbourne.txt',\n",
       " '09-14_osaka.txt',\n",
       " '09-14_tokyo.txt',\n",
       " '09-15_jakarta.txt',\n",
       " '09-15_melbourne.txt',\n",
       " '09-15_osaka.txt',\n",
       " '09-15_shanghai.txt',\n",
       " '09-16_cairo.txt',\n",
       " '09-16_jakarta.txt',\n",
       " '09-16_osaka.txt',\n",
       " '09-16_tokyo.txt',\n",
       " '09-17_manila.txt',\n",
       " '09-17_tokyo.txt',\n",
       " '09-18_cairo.txt',\n",
       " '09-18_jakarta.txt',\n",
       " '09-19_dhaka.txt',\n",
       " '09-19_jakarta.txt',\n",
       " '09-19_melbourne.txt',\n",
       " '09-19_osaka.txt',\n",
       " '09-19_shanghai.txt',\n",
       " '09-19_singapore.txt',\n",
       " '09-19_tokyo.txt',\n",
       " '09-20_cairo.txt',\n",
       " '09-20_jakarta.txt',\n",
       " '09-20_karachi.txt',\n",
       " '09-20_osaka.txt',\n",
       " '09-20_shanghai.txt',\n",
       " '09-20_singapore.txt',\n",
       " '09-20_tokyo.txt',\n",
       " '09-21_jakarta.txt',\n",
       " '09-21_karachi.txt',\n",
       " '09-21_melbourne.txt',\n",
       " '09-21_osaka.txt',\n",
       " '09-21_shanghai.txt',\n",
       " '09-21_singapore.txt',\n",
       " '09-21_tokyo.txt',\n",
       " '09-22_cairo.txt',\n",
       " '09-22_karachi.txt',\n",
       " '09-22_osaka.txt',\n",
       " '09-22_tokyo.txt',\n",
       " '09-23_cairo.txt',\n",
       " '09-23_osaka.txt',\n",
       " '09-23_shanghai.txt',\n",
       " '09-23_singapore.txt',\n",
       " '09-24_cairo.txt',\n",
       " '09-24_jakarta.txt',\n",
       " '09-24_melbourne.txt',\n",
       " '09-24_osaka.txt',\n",
       " '09-24_singapore.txt',\n",
       " '09-25_cairo.txt',\n",
       " '09-25_dhaka.txt',\n",
       " '09-25_jakarta.txt',\n",
       " '09-25_karachi.txt',\n",
       " '09-25_osaka.txt',\n",
       " '09-25_shanghai.txt',\n",
       " '09-25_singapore.txt',\n",
       " '09-26_cairo.txt',\n",
       " '09-26_karachi.txt',\n",
       " '09-26_melbourne.txt',\n",
       " '09-26_osaka.txt',\n",
       " '09-26_shanghai.txt',\n",
       " '09-26_tokyo.txt',\n",
       " '09-27_jakarta.txt',\n",
       " '09-27_shanghai.txt',\n",
       " '09-28_cairo.txt',\n",
       " '09-28_karachi.txt',\n",
       " '09-28_melbourne.txt',\n",
       " '09-29_dhaka.txt',\n",
       " '09-29_jakarta.txt',\n",
       " '09-29_karachi.txt',\n",
       " '09-29_osaka.txt',\n",
       " '09-29_singapore.txt',\n",
       " '10-01_dhaka.txt',\n",
       " '10-01_singapore.txt',\n",
       " '10-01_tokyo.txt',\n",
       " ...]"
      ]
     },
     "execution_count": 176,
     "metadata": {},
     "output_type": "execute_result"
    }
   ],
   "source": [
    "glob.glob('*.txt')"
   ]
  },
  {
   "cell_type": "code",
   "execution_count": 209,
   "id": "6791ee20",
   "metadata": {},
   "outputs": [],
   "source": [
    "def rename_my_file(old_file_name):\n",
    "    for key, value in month_dict.items():\n",
    "        if value in old_file_name:\n",
    "            continue\n",
    "        else:\n",
    "            old_file_name = old_file_name.replace(key,value)\n",
    "            new_file_name = old_file_name\n",
    "    return new_file_name"
   ]
  },
  {
   "cell_type": "code",
   "execution_count": 187,
   "id": "8fd62c75",
   "metadata": {},
   "outputs": [
    {
     "data": {
      "text/plain": [
       "'01020304'"
      ]
     },
     "execution_count": 187,
     "metadata": {},
     "output_type": "execute_result"
    }
   ],
   "source": [
    "dumb_str = '01feb0304'\n",
    "for key, value in month_dict.items():\n",
    "    if value in dumb_str:\n",
    "        continue\n",
    "    else:\n",
    "        dumb_str = dumb_str.replace(key,value)\n",
    "\n",
    "dumb_str"
   ]
  },
  {
   "cell_type": "code",
   "execution_count": 201,
   "id": "2137b35f",
   "metadata": {},
   "outputs": [
    {
     "data": {
      "text/plain": [
       "['oct-08_singapore.txt',\n",
       " 'jul-10_cairo.txt',\n",
       " 'may-15_dhaka.txt',\n",
       " 'may-13_cairo.txt',\n",
       " 'oct-21_cairo.txt',\n",
       " '01-10_singapore.txt',\n",
       " 'jun-20_tokyo.txt',\n",
       " 'aug-06_jakarta.txt',\n",
       " 'dec-21_karachi.txt',\n",
       " 'jan-01_tokyo.txt']"
      ]
     },
     "execution_count": 201,
     "metadata": {},
     "output_type": "execute_result"
    }
   ],
   "source": [
    "new_list"
   ]
  },
  {
   "cell_type": "code",
   "execution_count": 200,
   "id": "762408ec",
   "metadata": {},
   "outputs": [
    {
     "name": "stdout",
     "output_type": "stream",
     "text": [
      "oct-08_singapore.txt ----> oct-08_singapore.txt\n",
      "jul-10_cairo.txt ----> jul-10_cairo.txt\n",
      "may-15_dhaka.txt ----> may-15_dhaka.txt\n",
      "may-13_cairo.txt ----> may-13_cairo.txt\n",
      "oct-21_cairo.txt ----> oct-21_cairo.txt\n",
      "01-10_singapore.txt ----> 01-10_singapore.txt\n",
      "jun-20_tokyo.txt ----> jun-20_tokyo.txt\n",
      "aug-06_jakarta.txt ----> aug-06_jakarta.txt\n",
      "dec-21_karachi.txt ----> dec-21_karachi.txt\n",
      "jan-01_tokyo.txt ----> jan-01_tokyo.txt\n"
     ]
    }
   ],
   "source": [
    "for file_name in new_list:\n",
    "    new_file_name = rename_my_file(file_name)\n",
    "    print(f\"{file_name} ----> {new_file_name}\")\n",
    "#this loop still keeps iterating though"
   ]
  }
 ],
 "metadata": {
  "kernelspec": {
   "display_name": "Python 3 (ipykernel)",
   "language": "python",
   "name": "python3"
  },
  "language_info": {
   "codemirror_mode": {
    "name": "ipython",
    "version": 3
   },
   "file_extension": ".py",
   "mimetype": "text/x-python",
   "name": "python",
   "nbconvert_exporter": "python",
   "pygments_lexer": "ipython3",
   "version": "3.10.8"
  },
  "toc": {
   "base_numbering": 1,
   "nav_menu": {},
   "number_sections": true,
   "sideBar": true,
   "skip_h1_title": false,
   "title_cell": "Table of Contents",
   "title_sidebar": "Contents",
   "toc_cell": false,
   "toc_position": {},
   "toc_section_display": true,
   "toc_window_display": false
  },
  "varInspector": {
   "cols": {
    "lenName": 16,
    "lenType": 16,
    "lenVar": 40
   },
   "kernels_config": {
    "python": {
     "delete_cmd_postfix": "",
     "delete_cmd_prefix": "del ",
     "library": "var_list.py",
     "varRefreshCmd": "print(var_dic_list())"
    },
    "r": {
     "delete_cmd_postfix": ") ",
     "delete_cmd_prefix": "rm(",
     "library": "var_list.r",
     "varRefreshCmd": "cat(var_dic_list()) "
    }
   },
   "types_to_exclude": [
    "module",
    "function",
    "builtin_function_or_method",
    "instance",
    "_Feature"
   ],
   "window_display": false
  },
  "vscode": {
   "interpreter": {
    "hash": "31f2aee4e71d21fbe5cf8b01ff0e069b9275f58929596ceb00d14d90e3e16cd6"
   }
  }
 },
 "nbformat": 4,
 "nbformat_minor": 5
}
